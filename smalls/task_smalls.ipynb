{
 "cells": [
  {
   "cell_type": "markdown",
   "metadata": {},
   "source": [
    "# Smalls\n",
    "\n",
    "## Task\n",
    "https://smalls.notion.site/Marketing-Analyst-Technical-Challenge-Discussion-65e5d85a71224e2fb9d406f4e772ba37\n",
    "\n",
    "## Questions\n",
    "1. What major customer segments do you see? How are these segments different? \n",
    "2. Which segments are most valuable? \n",
    "3. What recommendations for segment-based initiatives do you have based on your analysis? \n",
    "4. What data do you wish you had received to make a more informed recommendation?"
   ]
  },
  {
   "cell_type": "code",
   "execution_count": 1,
   "metadata": {},
   "outputs": [
    {
     "data": {
      "text/html": [
       "<script>\n",
       "  function code_toggle() {\n",
       "    if (code_shown){\n",
       "      $('div.input').hide('500');\n",
       "      $('#toggleButton').val('Show Code')\n",
       "    } else {\n",
       "      $('div.input').show('500');\n",
       "      $('#toggleButton').val('Hide Code')\n",
       "    }\n",
       "    code_shown = !code_shown\n",
       "  }\n",
       "\n",
       "  $( document ).ready(function(){\n",
       "    code_shown=false;\n",
       "    $('div.input').hide()\n",
       "  });\n",
       "</script>\n",
       "<form action=\"javascript:code_toggle()\">\n",
       "  <input type=\"submit\" id=\"toggleButton\" value=\"Show Code\">\n",
       "</form>\n"
      ],
      "text/plain": [
       "<IPython.core.display.HTML object>"
      ]
     },
     "execution_count": 1,
     "metadata": {},
     "output_type": "execute_result"
    }
   ],
   "source": [
    "# hide code\n",
    "from IPython.display import HTML\n",
    "\n",
    "HTML('''<script>\n",
    "  function code_toggle() {\n",
    "    if (code_shown){\n",
    "      $('div.input').hide('500');\n",
    "      $('#toggleButton').val('Show Code')\n",
    "    } else {\n",
    "      $('div.input').show('500');\n",
    "      $('#toggleButton').val('Hide Code')\n",
    "    }\n",
    "    code_shown = !code_shown\n",
    "  }\n",
    "\n",
    "  $( document ).ready(function(){\n",
    "    code_shown=false;\n",
    "    $('div.input').hide()\n",
    "  });\n",
    "</script>\n",
    "<form action=\"javascript:code_toggle()\">\n",
    "  <input type=\"submit\" id=\"toggleButton\" value=\"Show Code\">\n",
    "</form>\n",
    "''')"
   ]
  },
  {
   "cell_type": "code",
   "execution_count": 2,
   "metadata": {},
   "outputs": [
    {
     "name": "stdout",
     "output_type": "stream",
     "text": [
      "Data contains \n",
      "Customer rows: 72717 \n",
      "Order rows: 209217\n"
     ]
    }
   ],
   "source": [
    "import pandas as pd\n",
    "path=r'C:\\a_job\\2022\\smalls (cat food)\\task'\n",
    "\n",
    "import sys\n",
    "sys.path.append(path)\n",
    "\n",
    "import imp\n",
    "util = imp.load_source('date_time', r'C:\\a_job\\2022\\smalls (cat food)\\date_time.py')\n",
    "\n",
    "import date_time\n",
    "\n",
    "df_o=pd.read_excel(f\"{path}\\data\\Analyst Exercise - FACT_ORDERS.xlsx\")\n",
    "df_c=pd.read_excel(f\"{path}\\data\\Analyst Exercise - DIM_CUSTOMERS.xlsx\")\n",
    "\n",
    "print(f\"Data contains \\nCustomer rows: {df_c.shape[0]} \\nOrder rows: {df_o.shape[0]}\")"
   ]
  },
  {
   "cell_type": "markdown",
   "metadata": {},
   "source": [
    "# Exploration"
   ]
  },
  {
   "cell_type": "code",
   "execution_count": 4,
   "metadata": {},
   "outputs": [],
   "source": [
    "#---\n",
    "cid='CUSTOMER_ID'\n",
    "oid='ORDER_ID'\n",
    "\n",
    "# ---\n",
    "c_cat_features=['TRIAL_PLAN', 'GA_SOURCE', 'GA_MEDIUM',\n",
    "       'CANCELLATION_FLAG','CANCELLATION_REASON',\n",
    "       'CAT_COUNT']\n",
    "c_date_features=['TRIAL_WEEK','CANCELLATION_DATE']\n",
    "\n",
    "# trial week - a date that starts with monday\n",
    "\n",
    "# ---\n",
    "o_cat_features=['ORDER_TYPE', 'ORDER_SEQUENCE']\n",
    "o_date_features=['ORDER_DATE']\n",
    "o_date_features=['ORDER_SEQUENCE', 'REVENUE', 'MARGIN']"
   ]
  },
  {
   "cell_type": "markdown",
   "metadata": {},
   "source": [
    "## Preparation"
   ]
  },
  {
   "cell_type": "code",
   "execution_count": 6,
   "metadata": {},
   "outputs": [],
   "source": [
    "# convert dates\n",
    "df_o=date_time.date_parsing(df_o,'ORDER_DATE')\n",
    "df_c=date_time.date_parsing(df_c,'TRIAL_WEEK')\n",
    "#--------------------------------------"
   ]
  },
  {
   "cell_type": "code",
   "execution_count": 7,
   "metadata": {},
   "outputs": [
    {
     "name": "stdout",
     "output_type": "stream",
     "text": [
      "Users that made order without Trial 378\n"
     ]
    }
   ],
   "source": [
    "tmp=pd.merge(df_o,df_c, on=cid, how='left')\n",
    "a=tmp.loc[tmp['ORDER_SEQUENCE']==1,[cid,'ORDER_DATE','TRIAL_WEEK', 'TRIAL_WEEK_WeekDay']]\n",
    "a['valid']=(a['ORDER_DATE']>=a['TRIAL_WEEK'])*1\n",
    "\n",
    "# orders without Trial?\n",
    "print(f\"Users that made order without Trial {a.loc[a['valid']==0].shape[0]}\")"
   ]
  },
  {
   "cell_type": "code",
   "execution_count": null,
   "metadata": {},
   "outputs": [],
   "source": []
  }
 ],
 "metadata": {
  "kernelspec": {
   "display_name": "Python 3",
   "language": "python",
   "name": "python3"
  },
  "language_info": {
   "codemirror_mode": {
    "name": "ipython",
    "version": 3
   },
   "file_extension": ".py",
   "mimetype": "text/x-python",
   "name": "python",
   "nbconvert_exporter": "python",
   "pygments_lexer": "ipython3",
   "version": "3.7.6"
  }
 },
 "nbformat": 4,
 "nbformat_minor": 4
}
