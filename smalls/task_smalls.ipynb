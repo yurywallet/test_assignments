{
 "cells": [
  {
   "cell_type": "markdown",
   "metadata": {},
   "source": [
    "# Smalls\n",
    "\n",
    "## Task\n",
    "https://smalls.notion.site/Marketing-Analyst-Technical-Challenge-Discussion-65e5d85a71224e2fb9d406f4e772ba37\n",
    "\n",
    "## Position\n",
    "https://angel.co/company/smalls/jobs/941112-data-analyst\n",
    "\n",
    "## Questions\n",
    "1. What major customer segments do you see? How are these segments different? \n",
    "2. Which segments are most valuable? \n",
    "3. What recommendations for segment-based initiatives do you have based on your analysis? \n",
    "4. What data do you wish you had received to make a more informed recommendation?"
   ]
  },
  {
   "cell_type": "markdown",
   "metadata": {},
   "source": [
    "## Segmentation based on activity\n",
    "\n",
    "There are two groups of users - ACTIVE and INACTIVE (cancelled)\n",
    "\n",
    "- Out of INACTIVE there are users WITH and WITHOUT orders (were on subscribsion but decided to quit)\n",
    "- Same for ACTIVE users - there is segment of users that bring money (have orders) and users that are on trial (no orders, negative margin)\n",
    "\n",
    "This four groups have different business value and need different (marketing) treatment: \n",
    "- activation for users on Trial\n",
    "    - education about the company\n",
    "    - education about other products and services\n",
    "    - education what is expected from user how to continue with the subscription\n",
    "- reactivation (depend on cancellation reason)\n",
    "    - if there is new product or formula (e.g. with different taste, if reason was taste)\n",
    "- cross-sell\n",
    "    - new products, new partnersips\n",
    "- up-sell\n",
    "    - other products that can be of interest\n",
    "- support:\n",
    "    - educational materials of pet health, insurance, vets\n",
    "    - news about the company\n",
    "    - etc.\n",
    "- reaction on cancellation - strategy depends on the reason\n",
    "    - what actions to take when payment details are wrong/not working\n",
    "    \n",
    "\n",
    "## Convertion and retention analysis\n",
    "The biggest effort is needed in convertion from Trial and retention of new clients:\n",
    "- average convertion rate after trial is 45% (-> another 55% of clients is lost)\n",
    "- the biggest loss of clients happens after first order (retention 44% -> another 56% of clients is lost)\n",
    "\n",
    "If combined with cancellation reasons analysis may help to identify key areas for improvement\n",
    "\n"
   ]
  },
  {
   "cell_type": "markdown",
   "metadata": {},
   "source": [
    "### Observations:\n",
    "- most of users are INACTIVE\n",
    "- most have one or two cats\n",
    "- most of the reasons to cancel are related to \"not eating\"\n",
    "    - food taste, smell, texture may need to be adjusted\n",
    "- Some reasons look of same type and can be joined for further analysis:\n",
    "    - Taste: My cat won't eat; Cats won't eat ; Cats Stopped Eating\n",
    "    - Price: Price, Pricing - don't see value\n",
    "    - Dead pet: My cat is no longer here\n",
    "- there is cancellation due to wrong payment data\n",
    "- for users that had subscription and cancelled the most popular reason may need to be identified (\"Others\")\n",
    "- The most common order periods are 4,3 and 2 weeks\n",
    "- most of the clients quit after 4 orders"
   ]
  },
  {
   "cell_type": "markdown",
   "metadata": {},
   "source": [
    "## Questions\n",
    "- Why some orders have negative margin? What is the reason: shipping costs, production costs, discounts (campaigns), cost of aquisition? \n",
    "- There are users with big negative margin (example in \"top 10 least profitable clients\"). What is the reason to keep such clients and not prevent such cases early?\n",
    "- Some cancellation reasons are not clear: CWE - Abandon Trial, CWE - Made Effort\n",
    "- What is the cancellation reason if there was only Trial? Do customers when signing for trial are simulataniously signing for subscription (if not cancelled during trial then deliver first order? get payment)???\n",
    "- How company works with cancellation reasons:\n",
    "    - Is there a workaround to send customer trial of another food type if reason for cancellation is related to \"not eating\"\n",
    "    - Does the company send a letter of condolence if the reason for the cancellation is related to the death of cats?\n",
    "- Can same user get a trial of another product? How it will be reflected in the data\n",
    "- How company deals with fraudsters?\n",
    "    - Cases when user changes identity: like same address different but id\n",
    "- There is a duplicate in CUSTOMERS table (Customer_ID is not unique). Is it only a test case or data storage allows not unique ID?\n",
    "\n",
    "## Extra data to enrich dataset\n",
    "- Geography data: \n",
    "    - different peformance can be in different cities, states. \n",
    "    - Margin analysis is also related to the cost of delivery\n",
    "- For financial results: Cost of aquisition per channel\n",
    "- What is in the basket per each order (may it vary on quantity and products)?\n",
    "- How the communication with clients is organized?"
   ]
  },
  {
   "cell_type": "code",
   "execution_count": 1,
   "metadata": {},
   "outputs": [
    {
     "data": {
      "text/html": [
       "<script>\n",
       "  function code_toggle() {\n",
       "    if (code_shown){\n",
       "      $('div.input').hide('500');\n",
       "      $('#toggleButton').val('Show Code')\n",
       "    } else {\n",
       "      $('div.input').show('500');\n",
       "      $('#toggleButton').val('Hide Code')\n",
       "    }\n",
       "    code_shown = !code_shown\n",
       "  }\n",
       "\n",
       "  $( document ).ready(function(){\n",
       "    code_shown=false;\n",
       "    $('div.input').hide()\n",
       "  });\n",
       "</script>\n",
       "<form action=\"javascript:code_toggle()\">\n",
       "  <input type=\"submit\" id=\"toggleButton\" value=\"Show Code\">\n",
       "</form>\n"
      ],
      "text/plain": [
       "<IPython.core.display.HTML object>"
      ]
     },
     "execution_count": 1,
     "metadata": {},
     "output_type": "execute_result"
    }
   ],
   "source": [
    "# hide code\n",
    "from IPython.display import HTML\n",
    "\n",
    "HTML('''<script>\n",
    "  function code_toggle() {\n",
    "    if (code_shown){\n",
    "      $('div.input').hide('500');\n",
    "      $('#toggleButton').val('Show Code')\n",
    "    } else {\n",
    "      $('div.input').show('500');\n",
    "      $('#toggleButton').val('Hide Code')\n",
    "    }\n",
    "    code_shown = !code_shown\n",
    "  }\n",
    "\n",
    "  $( document ).ready(function(){\n",
    "    code_shown=false;\n",
    "    $('div.input').hide()\n",
    "  });\n",
    "</script>\n",
    "<form action=\"javascript:code_toggle()\">\n",
    "  <input type=\"submit\" id=\"toggleButton\" value=\"Show Code\">\n",
    "</form>\n",
    "''')"
   ]
  },
  {
   "cell_type": "markdown",
   "metadata": {},
   "source": [
    "## Data"
   ]
  },
  {
   "cell_type": "code",
   "execution_count": 2,
   "metadata": {},
   "outputs": [
    {
     "name": "stdout",
     "output_type": "stream",
     "text": [
      "Data contains \n",
      "Customer rows: 72717 \n",
      "Order rows: 209217\n"
     ]
    }
   ],
   "source": [
    "import pandas as pd\n",
    "import numpy as np\n",
    "import matplotlib.pyplot as plt\n",
    "plt.rcParams[\"figure.figsize\"] = (10,10)\n",
    "\n",
    "path=r'C:\\a_job\\2022\\smalls (cat food)\\task'\n",
    "\n",
    "import sys\n",
    "sys.path.append(path)\n",
    "\n",
    "import imp\n",
    "util = imp.load_source('date_time', r'C:\\a_job\\2022\\smalls (cat food)\\date_time.py')\n",
    "\n",
    "import date_time\n",
    "\n",
    "df_o=pd.read_excel(f\"{path}\\data\\Analyst Exercise - FACT_ORDERS.xlsx\")\n",
    "df_c=pd.read_excel(f\"{path}\\data\\Analyst Exercise - DIM_CUSTOMERS.xlsx\")\n",
    "\n",
    "print(f\"Data contains \\nCustomer rows: {df_c.shape[0]} \\nOrder rows: {df_o.shape[0]}\")"
   ]
  },
  {
   "cell_type": "code",
   "execution_count": 3,
   "metadata": {},
   "outputs": [
    {
     "data": {
      "text/html": [
       "<div>\n",
       "<style scoped>\n",
       "    .dataframe tbody tr th:only-of-type {\n",
       "        vertical-align: middle;\n",
       "    }\n",
       "\n",
       "    .dataframe tbody tr th {\n",
       "        vertical-align: top;\n",
       "    }\n",
       "\n",
       "    .dataframe thead th {\n",
       "        text-align: right;\n",
       "    }\n",
       "</style>\n",
       "<table border=\"1\" class=\"dataframe\">\n",
       "  <thead>\n",
       "    <tr style=\"text-align: right;\">\n",
       "      <th></th>\n",
       "      <th>CUSTOMER_ID</th>\n",
       "      <th>TRIAL_WEEK</th>\n",
       "      <th>TRIAL_PLAN</th>\n",
       "      <th>GA_SOURCE</th>\n",
       "      <th>GA_MEDIUM</th>\n",
       "      <th>CANCELLATION_FLAG</th>\n",
       "      <th>CANCELLATION_DATE</th>\n",
       "      <th>CANCELLATION_REASON</th>\n",
       "      <th>CAT_COUNT</th>\n",
       "    </tr>\n",
       "  </thead>\n",
       "  <tbody>\n",
       "    <tr>\n",
       "      <th>0</th>\n",
       "      <td>5872104079459</td>\n",
       "      <td>2022-05-02</td>\n",
       "      <td>FRESH</td>\n",
       "      <td>bing</td>\n",
       "      <td>cpc</td>\n",
       "      <td>ACTIVE</td>\n",
       "      <td>NaT</td>\n",
       "      <td>NaN</td>\n",
       "      <td>2.0</td>\n",
       "    </tr>\n",
       "    <tr>\n",
       "      <th>1</th>\n",
       "      <td>5874517835875</td>\n",
       "      <td>2022-05-02</td>\n",
       "      <td>FRESH</td>\n",
       "      <td>google</td>\n",
       "      <td>cpc</td>\n",
       "      <td>ACTIVE</td>\n",
       "      <td>NaT</td>\n",
       "      <td>NaN</td>\n",
       "      <td>1.0</td>\n",
       "    </tr>\n",
       "    <tr>\n",
       "      <th>2</th>\n",
       "      <td>5872455876707</td>\n",
       "      <td>2022-05-02</td>\n",
       "      <td>FRESH</td>\n",
       "      <td>affiliate</td>\n",
       "      <td>impact</td>\n",
       "      <td>ACTIVE</td>\n",
       "      <td>NaT</td>\n",
       "      <td>NaN</td>\n",
       "      <td>1.0</td>\n",
       "    </tr>\n",
       "    <tr>\n",
       "      <th>3</th>\n",
       "      <td>5873427906659</td>\n",
       "      <td>2022-05-02</td>\n",
       "      <td>FRESH</td>\n",
       "      <td>affiliate</td>\n",
       "      <td>impact</td>\n",
       "      <td>ACTIVE</td>\n",
       "      <td>NaT</td>\n",
       "      <td>NaN</td>\n",
       "      <td>1.0</td>\n",
       "    </tr>\n",
       "    <tr>\n",
       "      <th>4</th>\n",
       "      <td>5872437854307</td>\n",
       "      <td>2022-05-02</td>\n",
       "      <td>FRESH</td>\n",
       "      <td>tapjoy</td>\n",
       "      <td>49bf5cbe33fdb91cd324f6102c726b4a9d1235b41c9df7...</td>\n",
       "      <td>ACTIVE</td>\n",
       "      <td>NaT</td>\n",
       "      <td>NaN</td>\n",
       "      <td>2.0</td>\n",
       "    </tr>\n",
       "  </tbody>\n",
       "</table>\n",
       "</div>"
      ],
      "text/plain": [
       "     CUSTOMER_ID TRIAL_WEEK TRIAL_PLAN  GA_SOURCE  \\\n",
       "0  5872104079459 2022-05-02      FRESH       bing   \n",
       "1  5874517835875 2022-05-02      FRESH     google   \n",
       "2  5872455876707 2022-05-02      FRESH  affiliate   \n",
       "3  5873427906659 2022-05-02      FRESH  affiliate   \n",
       "4  5872437854307 2022-05-02      FRESH     tapjoy   \n",
       "\n",
       "                                           GA_MEDIUM CANCELLATION_FLAG  \\\n",
       "0                                                cpc            ACTIVE   \n",
       "1                                                cpc            ACTIVE   \n",
       "2                                             impact            ACTIVE   \n",
       "3                                             impact            ACTIVE   \n",
       "4  49bf5cbe33fdb91cd324f6102c726b4a9d1235b41c9df7...            ACTIVE   \n",
       "\n",
       "  CANCELLATION_DATE CANCELLATION_REASON  CAT_COUNT  \n",
       "0               NaT                 NaN        2.0  \n",
       "1               NaT                 NaN        1.0  \n",
       "2               NaT                 NaN        1.0  \n",
       "3               NaT                 NaN        1.0  \n",
       "4               NaT                 NaN        2.0  "
      ]
     },
     "execution_count": 3,
     "metadata": {},
     "output_type": "execute_result"
    }
   ],
   "source": [
    "#sample customers\n",
    "df_c.head()"
   ]
  },
  {
   "cell_type": "code",
   "execution_count": 4,
   "metadata": {},
   "outputs": [
    {
     "data": {
      "text/html": [
       "<div>\n",
       "<style scoped>\n",
       "    .dataframe tbody tr th:only-of-type {\n",
       "        vertical-align: middle;\n",
       "    }\n",
       "\n",
       "    .dataframe tbody tr th {\n",
       "        vertical-align: top;\n",
       "    }\n",
       "\n",
       "    .dataframe thead th {\n",
       "        text-align: right;\n",
       "    }\n",
       "</style>\n",
       "<table border=\"1\" class=\"dataframe\">\n",
       "  <thead>\n",
       "    <tr style=\"text-align: right;\">\n",
       "      <th></th>\n",
       "      <th>ORDER_ID</th>\n",
       "      <th>CUSTOMER_ID</th>\n",
       "      <th>ORDER_DATE</th>\n",
       "      <th>ORDER_SEQUENCE</th>\n",
       "      <th>ORDER_TYPE</th>\n",
       "      <th>REVENUE</th>\n",
       "      <th>MARGIN</th>\n",
       "    </tr>\n",
       "  </thead>\n",
       "  <tbody>\n",
       "    <tr>\n",
       "      <th>0</th>\n",
       "      <td>3911587332195</td>\n",
       "      <td>5144374181987</td>\n",
       "      <td>2021-02-19 17:52:00</td>\n",
       "      <td>1.0</td>\n",
       "      <td>TRIAL</td>\n",
       "      <td>36.11</td>\n",
       "      <td>-12.57</td>\n",
       "    </tr>\n",
       "    <tr>\n",
       "      <th>1</th>\n",
       "      <td>2173509337187</td>\n",
       "      <td>2910017290339</td>\n",
       "      <td>2020-03-27 04:41:07</td>\n",
       "      <td>3.0</td>\n",
       "      <td>SUBSCRIPTION</td>\n",
       "      <td>126.00</td>\n",
       "      <td>69.60</td>\n",
       "    </tr>\n",
       "    <tr>\n",
       "      <th>2</th>\n",
       "      <td>3843079929955</td>\n",
       "      <td>5196139036771</td>\n",
       "      <td>2021-05-25 06:11:32</td>\n",
       "      <td>1.0</td>\n",
       "      <td>TRIAL</td>\n",
       "      <td>33.75</td>\n",
       "      <td>-2.48</td>\n",
       "    </tr>\n",
       "    <tr>\n",
       "      <th>3</th>\n",
       "      <td>3865901662307</td>\n",
       "      <td>5177666568291</td>\n",
       "      <td>2021-06-04 03:18:29</td>\n",
       "      <td>2.0</td>\n",
       "      <td>SUBSCRIPTION</td>\n",
       "      <td>162.00</td>\n",
       "      <td>-79.63</td>\n",
       "    </tr>\n",
       "    <tr>\n",
       "      <th>4</th>\n",
       "      <td>3939062480995</td>\n",
       "      <td>5304357388387</td>\n",
       "      <td>2021-07-07 23:16:40</td>\n",
       "      <td>1.0</td>\n",
       "      <td>TRIAL</td>\n",
       "      <td>33.75</td>\n",
       "      <td>-51.84</td>\n",
       "    </tr>\n",
       "  </tbody>\n",
       "</table>\n",
       "</div>"
      ],
      "text/plain": [
       "        ORDER_ID    CUSTOMER_ID          ORDER_DATE  ORDER_SEQUENCE  \\\n",
       "0  3911587332195  5144374181987 2021-02-19 17:52:00             1.0   \n",
       "1  2173509337187  2910017290339 2020-03-27 04:41:07             3.0   \n",
       "2  3843079929955  5196139036771 2021-05-25 06:11:32             1.0   \n",
       "3  3865901662307  5177666568291 2021-06-04 03:18:29             2.0   \n",
       "4  3939062480995  5304357388387 2021-07-07 23:16:40             1.0   \n",
       "\n",
       "     ORDER_TYPE  REVENUE  MARGIN  \n",
       "0         TRIAL    36.11  -12.57  \n",
       "1  SUBSCRIPTION   126.00   69.60  \n",
       "2         TRIAL    33.75   -2.48  \n",
       "3  SUBSCRIPTION   162.00  -79.63  \n",
       "4         TRIAL    33.75  -51.84  "
      ]
     },
     "execution_count": 4,
     "metadata": {},
     "output_type": "execute_result"
    }
   ],
   "source": [
    "#sample orders\n",
    "df_o.head()"
   ]
  },
  {
   "cell_type": "markdown",
   "metadata": {},
   "source": [
    "## Preparation"
   ]
  },
  {
   "cell_type": "code",
   "execution_count": 5,
   "metadata": {},
   "outputs": [],
   "source": [
    "#---\n",
    "cid='CUSTOMER_ID'\n",
    "oid='ORDER_ID'\n",
    "\n",
    "# ---\n",
    "c_cat_features=['TRIAL_PLAN', 'GA_SOURCE', 'GA_MEDIUM',\n",
    "       'CANCELLATION_FLAG','CANCELLATION_REASON',\n",
    "       'CAT_COUNT']\n",
    "c_date_features=['TRIAL_WEEK','CANCELLATION_DATE']\n",
    "\n",
    "# trial week - a date that starts with monday\n",
    "\n",
    "# ---\n",
    "o_cat_features=['ORDER_TYPE', 'ORDER_SEQUENCE']\n",
    "o_date_features=['ORDER_DATE']\n",
    "o_date_features=['ORDER_SEQUENCE', 'REVENUE', 'MARGIN']"
   ]
  },
  {
   "cell_type": "code",
   "execution_count": 6,
   "metadata": {},
   "outputs": [
    {
     "name": "stdout",
     "output_type": "stream",
     "text": [
      "Duplicates in Customer [5359139848291]\n",
      "         CUSTOMER_ID TRIAL_WEEK TRIAL_PLAN GA_SOURCE GA_MEDIUM  \\\n",
      "35982  5359139848291 2021-08-02      FRESH       NaN       NaN   \n",
      "36089  5359139848291 2021-08-02      FRESH       NaN       NaN   \n",
      "\n",
      "      CANCELLATION_FLAG   CANCELLATION_DATE CANCELLATION_REASON  CAT_COUNT  \n",
      "35982          INACTIVE 2021-08-31 12:53:17               Other        1.0  \n",
      "36089          INACTIVE 2021-08-05 09:25:37               Other        1.0  \n"
     ]
    }
   ],
   "source": [
    "#check if unique in customers\n",
    "if len(df_c['CUSTOMER_ID'].unique().tolist())==df_c.shape[0]:\n",
    "    print(\"no problem\")\n",
    "else:\n",
    "    tmp=df_c.groupby(['CUSTOMER_ID']).size().reset_index().copy()\n",
    "    tmp.rename(columns={0:\"count\"}, inplace =True)  \n",
    "    duplicate_id=tmp.loc[tmp[\"count\"]>1]['CUSTOMER_ID'].tolist()\n",
    "    print(\"Duplicates in Customer\", duplicate_id)\n",
    "    \n",
    "    print(df_c.loc[df_c['CUSTOMER_ID'].isin(duplicate_id)])\n",
    "    \n",
    "    #Remove duplicates\n",
    "    df_c=df_c.loc[~(df_c['CUSTOMER_ID'].isin(duplicate_id))].copy()\n",
    "    df_o=df_o.loc[~(df_o['CUSTOMER_ID'].isin(duplicate_id))].copy()"
   ]
  },
  {
   "cell_type": "code",
   "execution_count": 7,
   "metadata": {},
   "outputs": [
    {
     "name": "stdout",
     "output_type": "stream",
     "text": [
      "no problem\n"
     ]
    }
   ],
   "source": [
    "#check if unique in orders\n",
    "if len(df_o['ORDER_ID'].unique().tolist())==df_o.shape[0]:\n",
    "    print(\"no problem\")\n",
    "else:\n",
    "    tmp=df_o.groupby(['ORDER_ID']).size().reset_index().copy()\n",
    "    tmp.rename(columns={0:\"count\"}, inplace =True)  \n",
    "    duplicate_id=tmp.loc[tmp[\"count\"]>1]['ORDER_ID'].tolist()\n",
    "    print(\"Duplicates in ORDERS\", duplicate_id)\n",
    "    \n",
    "    print(df_o.loc[df_o['ORDER_ID'].isin(duplicate_id)])\n",
    "    \n",
    "    #Remove duplicates\n",
    "    df_o=df_o.loc[~(df_o['ORDER_ID'].isin(duplicate_id))].copy()"
   ]
  },
  {
   "cell_type": "code",
   "execution_count": 8,
   "metadata": {},
   "outputs": [],
   "source": [
    "# convert dates\n",
    "df_o=date_time.date_parsing(df_o,'ORDER_DATE')\n",
    "df_c=date_time.date_parsing(df_c,'TRIAL_WEEK')\n",
    "df_c=date_time.date_parsing(df_c,'CANCELLATION_DATE')\n",
    "# some columns are int not float\n",
    "df_o['ORDER_SEQUENCE']=df_o['ORDER_SEQUENCE'].astype('Int64')\n",
    "\n",
    "#fillna\n",
    "for c in ['GA_SOURCE', 'GA_MEDIUM','CANCELLATION_REASON']:\n",
    "    df_c[c].fillna('No_data', inplace=True)"
   ]
  },
  {
   "cell_type": "code",
   "execution_count": 9,
   "metadata": {},
   "outputs": [
    {
     "name": "stdout",
     "output_type": "stream",
     "text": [
      "Users that made order without Trial 378\n"
     ]
    }
   ],
   "source": [
    "tmp=pd.merge(df_o,df_c, on=cid, how='left')\n",
    "a=tmp.loc[(tmp['ORDER_SEQUENCE'].notnull()) & (tmp['ORDER_SEQUENCE']==1)][[cid,'ORDER_DATE','TRIAL_WEEK', 'TRIAL_WEEK_WeekDay']]\n",
    "a['valid']=(a['ORDER_DATE']>=a['TRIAL_WEEK'])*1\n",
    "\n",
    "# orders without Trial?\n",
    "print(f\"Users that made order without Trial {a.loc[a['valid']==0].shape[0]}\")"
   ]
  },
  {
   "cell_type": "code",
   "execution_count": 10,
   "metadata": {},
   "outputs": [
    {
     "name": "stdout",
     "output_type": "stream",
     "text": [
      "--- DATES ----------\n",
      "Customers: \n",
      "from 20200106 to 20220502\n",
      "Orders: from 20180711 to 20220505\n",
      "Types of orders with order date before trial week date \n",
      " CANCELLED      153\n",
      "REPLACEMENT     14\n",
      "Name: ORDER_TYPE, dtype: int64\n"
     ]
    }
   ],
   "source": [
    "print(\"--- DATES ----------\")\n",
    "print(f\"Customers: \\nfrom {df_c['TRIAL_WEEK_ymd'].min()} to {df_c['TRIAL_WEEK_ymd'].max()}\")\n",
    "print(f\"Orders: from {df_o['ORDER_DATE_ymd'].min()} to {df_o['ORDER_DATE_ymd'].max()}\")\n",
    "\n",
    "#--- Orders before customers first week? ?????? test cases?\n",
    "tmp=pd.merge(df_o, df_c, on=cid, how='left')\n",
    "\n",
    "#if order appears before trial, but trial can be null\n",
    "tmptmp=tmp.loc[~((tmp['TRIAL_WEEK_ymd']<=tmp['ORDER_DATE_ymd']) | (tmp['TRIAL_WEEK'].isna())) ] \n",
    "\n",
    "strange_cid=tmptmp[cid].unique().tolist()\n",
    "\n",
    "print('Types of orders with order date before trial week date \\n', tmptmp['ORDER_TYPE'].value_counts())"
   ]
  },
  {
   "cell_type": "code",
   "execution_count": 11,
   "metadata": {},
   "outputs": [],
   "source": [
    "# delete strange \n",
    "df_c=df_c.loc[~df_c[cid].isin(strange_cid)].copy()\n",
    "df_o=df_o.loc[~df_o[cid].isin(strange_cid)].copy()"
   ]
  },
  {
   "cell_type": "code",
   "execution_count": 12,
   "metadata": {},
   "outputs": [
    {
     "name": "stdout",
     "output_type": "stream",
     "text": [
      "--- DATES (after cleaning) ----------\n",
      "Customers: from 20200106 to 20220502\n",
      "Orders: from 20200101 to 20220505\n",
      "NB. Data may contain orders of users without trial week\n"
     ]
    }
   ],
   "source": [
    "print(\"--- DATES (after cleaning) ----------\")\n",
    "print(f\"Customers: from {df_c['TRIAL_WEEK_ymd'].min()} to {df_c['TRIAL_WEEK_ymd'].max()}\")\n",
    "print(f\"Orders: from {df_o['ORDER_DATE_ymd'].min()} to {df_o['ORDER_DATE_ymd'].max()}\")\n",
    "print(\"NB. Data may contain orders of users without trial week\")\n"
   ]
  },
  {
   "cell_type": "code",
   "execution_count": 13,
   "metadata": {},
   "outputs": [
    {
     "name": "stdout",
     "output_type": "stream",
     "text": [
      "there are 378 customers in order that we lack data in customer table\n",
      "orders 1895\n",
      "reason can be either with lagging user data or with GA\n"
     ]
    }
   ],
   "source": [
    "a=df_o[[cid,oid]].groupby([cid]).size().reset_index()\n",
    "\n",
    "customers_orders=df_o[cid].unique().tolist()\n",
    "customers=df_c[cid].unique().tolist()\n",
    "num_cust=len(customers)\n",
    "\n",
    "customers_not_in_df_c=[c for c in customers_orders if c not in customers ]\n",
    "print(f'there are {len(customers_not_in_df_c)} customers in order that we lack data in customer table')\n",
    "print(f\"orders {df_o.loc[df_o[cid].isin(customers_not_in_df_c)].shape[0]}\")\n",
    "print(\"reason can be either with lagging user data or with GA\")"
   ]
  },
  {
   "cell_type": "code",
   "execution_count": 14,
   "metadata": {},
   "outputs": [],
   "source": [
    "# use only data from orders with data in customers table\n",
    "df_o=df_o.loc[df_o[cid].isin(customers)]"
   ]
  },
  {
   "cell_type": "code",
   "execution_count": 15,
   "metadata": {},
   "outputs": [],
   "source": [
    "# sort by date\n",
    "df_o=df_o.sort_values([cid,oid,'ORDER_DATE']).copy()"
   ]
  },
  {
   "cell_type": "markdown",
   "metadata": {},
   "source": [
    "## Exploration"
   ]
  },
  {
   "cell_type": "code",
   "execution_count": 16,
   "metadata": {
    "scrolled": false
   },
   "outputs": [
    {
     "name": "stdout",
     "output_type": "stream",
     "text": [
      "-----------------------\n",
      "TRIAL_PLAN --- FROM customers\n",
      "FRESH    50016\n",
      "MIX      16003\n",
      "DRY       1872\n",
      "Name: TRIAL_PLAN, dtype: int64\n",
      "-----------------------\n",
      "-----------------------\n",
      "GA_SOURCE --- FROM customers\n",
      "No_data           20884\n",
      "google            13253\n",
      "affiliate         10432\n",
      "facebook          10349\n",
      "(direct)           6149\n",
      "                  ...  \n",
      "journeys              1\n",
      "tab.gladly.io         1\n",
      "google.com            1\n",
      "tiktok.com            1\n",
      "localhost:3001        1\n",
      "Name: GA_SOURCE, Length: 113, dtype: int64\n",
      "-----------------------\n",
      "-----------------------\n",
      "GA_MEDIUM --- FROM customers\n",
      "No_data                                                                                                                                                                                             20884\n",
      "impact                                                                                                                                                                                              10409\n",
      "cpc                                                                                                                                                                                                  9051\n",
      "(none)                                                                                                                                                                                               6149\n",
      "organic                                                                                                                                                                                              5013\n",
      "                                                                                                                                                                                                    ...  \n",
      "613247de1caf4b162c13b223f6b1e83aec760eee18ce0c251447d0e157489367677ce491e0933fc43e6452511b10bf7caab47314377ed42a2dba69babcd3ce3ad7b07a6da7eff24a86f14c3bf32ab6d416b25dca6913e5ac33cde0218ec52cc4        1\n",
      "998c8e24371c93efe0e6613f01cc713c068cf45ad0a96cefd24fbeef206a9c97757741e42f89ae91b4cd61335ebdd4f6fe2ed2f581b5b308da28716ae82ab4f04af3053c90935929c170808468360e4af768277e4dfef7f5a735f3a83fa70082        1\n",
      "5fb9462959bb9c55766bdeab0f4abb5e6a2747d468048334259d8c69a67aa3030a034f67bef8110044a49afe87a16fcae2406e1ff893a19d52a12ee440ec7acc24011d175129526fa70402b667a43c458d18de6311b51f6bbd130636a8fa95af        1\n",
      "couponbirds.com                                                                                                                                                                                         1\n",
      "1c76ed2a6e89eef170de46ebb7c084eac2cbe919fd2c1f0e8409217e68741d676b28f95eac74943a08440dfe27c7567d3dd5e0e21f5b40e614363ba7f0a06aa90bca00b9563b909fa4c10be6fa2a712966217271c931cca84656d7fbf940c754        1\n",
      "Name: GA_MEDIUM, Length: 135, dtype: int64\n",
      "-----------------------\n",
      "-----------------------\n",
      "CANCELLATION_FLAG --- FROM customers\n",
      "INACTIVE    55067\n",
      "ACTIVE      17511\n",
      "Name: CANCELLATION_FLAG, dtype: int64\n",
      "-----------------------\n",
      "-----------------------\n",
      "CANCELLATION_REASON --- FROM customers\n",
      "No_data                                         18200\n",
      "CWE - Abandon Trial                              7001\n",
      "CWE - Made Effort                                6969\n",
      "Other                                            4982\n",
      "My cat won't eat                                 4800\n",
      "Unknown                                          4415\n",
      "Cats won't eat                                   3974\n",
      "Price                                            3742\n",
      "Max Number of Charge attempts reached            2513\n",
      "Not interested in a subscription                 1618\n",
      "Just Wanted Trial/Doesn't Want Subscription      1360\n",
      "Pricing - don't see value                        1346\n",
      "Dead/Gone Cat                                    1217\n",
      "Shipping Problems                                1192\n",
      "Cats Stopped Eating                              1000\n",
      "CWE - Prefer Other Food                           927\n",
      "Wants/Needs Prescription                          883\n",
      "Still Transitioning                               756\n",
      "Cat Had Reaction To Food                          719\n",
      "Order A La Carte/As Needed                        645\n",
      "Too Difficult                                     495\n",
      "My cat stopped eating                             411\n",
      "Everything                                        375\n",
      "My cat is no longer here                          345\n",
      "CWE - Wants Other Flavors/Textures                318\n",
      "Wants/Needs Prescription                          291\n",
      "There's too much food                             230\n",
      "Website issues                                    228\n",
      "Switched to Competitor                            208\n",
      "Removed from plan                                 207\n",
      "NPC Recall                                        167\n",
      "Coronavirus                                       163\n",
      "There was an issue with the shipping service      161\n",
      "Didn't have time to transition                    143\n",
      "Packaging                                         142\n",
      "Ops Inconsistency                                  92\n",
      "Cancelled                                          72\n",
      "Fulfillment Issues                                 71\n",
      "Fraud                                              63\n",
      "Inventory                                          39\n",
      "Bulk cancelation from V2 to V1 migration           25\n",
      "Remove Mouser that were gliched                    18\n",
      "Ops Inconsistency                                  18\n",
      "Foster program                                     16\n",
      "Dry Food Price Increase                             9\n",
      "Remove Liquid Gold from all subscriptions           8\n",
      "Remove Silica from all subscriptions                3\n",
      "influencer cancel                                   1\n",
      "Name: CANCELLATION_REASON, dtype: int64\n",
      "-----------------------\n",
      "-----------------------\n",
      "CAT_COUNT --- FROM customers\n",
      "1.0     35481\n",
      "2.0     22446\n",
      "3.0      5712\n",
      "4.0      2074\n",
      "5.0       736\n",
      "6.0       421\n",
      "7.0       193\n",
      "10.0      160\n",
      "8.0       136\n",
      "9.0        80\n",
      "Name: CAT_COUNT, dtype: int64\n",
      "-----------------------\n",
      "-----------------------\n",
      "ORDER_TYPE --- FROM orders\n",
      "SUBSCRIPTION    116299\n",
      "TRIAL            72578\n",
      "CANCELLED        12314\n",
      "REPLACEMENT       5600\n",
      "Name: ORDER_TYPE, dtype: int64\n",
      "-----------------------\n",
      "-----------------------\n",
      "ORDER_SEQUENCE --- FROM orders\n",
      "1     72578\n",
      "2     30084\n",
      "3     17762\n",
      "4     12729\n",
      "5      9762\n",
      "6      7782\n",
      "7      6343\n",
      "8      5268\n",
      "9      4396\n",
      "10     3705\n",
      "11     3169\n",
      "12     2685\n",
      "13     2249\n",
      "14     1897\n",
      "15     1562\n",
      "16     1327\n",
      "17     1083\n",
      "18      891\n",
      "19      729\n",
      "20      587\n",
      "21      484\n",
      "22      392\n",
      "23      318\n",
      "24      252\n",
      "25      200\n",
      "26      154\n",
      "27      121\n",
      "28       84\n",
      "29       65\n",
      "30       46\n",
      "31       33\n",
      "32       29\n",
      "33       20\n",
      "34       17\n",
      "35       13\n",
      "36       10\n",
      "37        9\n",
      "38        8\n",
      "39        8\n",
      "40        5\n",
      "41        4\n",
      "42        3\n",
      "47        2\n",
      "48        2\n",
      "43        2\n",
      "44        2\n",
      "45        2\n",
      "46        2\n",
      "49        1\n",
      "50        1\n",
      "Name: ORDER_SEQUENCE, dtype: Int64\n",
      "-----------------------\n"
     ]
    }
   ],
   "source": [
    "# cat features\n",
    "for c in c_cat_features:\n",
    "    print(\"-----------------------\")\n",
    "    print(c, \"--- FROM customers\")\n",
    "    print(df_c[c].value_counts())\n",
    "    print(\"-----------------------\")\n",
    "\n",
    "\n",
    "for c in o_cat_features:\n",
    "    print(\"-----------------------\")\n",
    "    print(c, \"--- FROM orders\")\n",
    "    print(df_o[c].value_counts())\n",
    "    print(\"-----------------------\")"
   ]
  },
  {
   "cell_type": "markdown",
   "metadata": {},
   "source": [
    "#### Top 10 cancellation reasons for users with orders"
   ]
  },
  {
   "cell_type": "code",
   "execution_count": 17,
   "metadata": {},
   "outputs": [
    {
     "name": "stdout",
     "output_type": "stream",
     "text": [
      "Top 10 cancellation reasons for users with orders \n",
      "\n"
     ]
    },
    {
     "data": {
      "text/html": [
       "<div>\n",
       "<style scoped>\n",
       "    .dataframe tbody tr th:only-of-type {\n",
       "        vertical-align: middle;\n",
       "    }\n",
       "\n",
       "    .dataframe tbody tr th {\n",
       "        vertical-align: top;\n",
       "    }\n",
       "\n",
       "    .dataframe thead th {\n",
       "        text-align: right;\n",
       "    }\n",
       "</style>\n",
       "<table border=\"1\" class=\"dataframe\">\n",
       "  <thead>\n",
       "    <tr style=\"text-align: right;\">\n",
       "      <th></th>\n",
       "      <th>CANCELLATION_REASON</th>\n",
       "      <th>NUM_ORDERS</th>\n",
       "    </tr>\n",
       "  </thead>\n",
       "  <tbody>\n",
       "    <tr>\n",
       "      <th>29</th>\n",
       "      <td>Other</td>\n",
       "      <td>6883.0</td>\n",
       "    </tr>\n",
       "    <tr>\n",
       "      <th>2</th>\n",
       "      <td>CWE - Made Effort</td>\n",
       "      <td>5109.0</td>\n",
       "    </tr>\n",
       "    <tr>\n",
       "      <th>43</th>\n",
       "      <td>Unknown</td>\n",
       "      <td>4634.0</td>\n",
       "    </tr>\n",
       "    <tr>\n",
       "      <th>19</th>\n",
       "      <td>Max Number of Charge attempts reached</td>\n",
       "      <td>3737.0</td>\n",
       "    </tr>\n",
       "    <tr>\n",
       "      <th>31</th>\n",
       "      <td>Price</td>\n",
       "      <td>3516.0</td>\n",
       "    </tr>\n",
       "    <tr>\n",
       "      <th>24</th>\n",
       "      <td>No_data</td>\n",
       "      <td>2767.0</td>\n",
       "    </tr>\n",
       "    <tr>\n",
       "      <th>1</th>\n",
       "      <td>CWE - Abandon Trial</td>\n",
       "      <td>2742.0</td>\n",
       "    </tr>\n",
       "    <tr>\n",
       "      <th>22</th>\n",
       "      <td>My cat won't eat</td>\n",
       "      <td>2235.0</td>\n",
       "    </tr>\n",
       "    <tr>\n",
       "      <th>7</th>\n",
       "      <td>Cats Stopped Eating</td>\n",
       "      <td>2226.0</td>\n",
       "    </tr>\n",
       "    <tr>\n",
       "      <th>10</th>\n",
       "      <td>Dead/Gone Cat</td>\n",
       "      <td>2021.0</td>\n",
       "    </tr>\n",
       "  </tbody>\n",
       "</table>\n",
       "</div>"
      ],
      "text/plain": [
       "                      CANCELLATION_REASON  NUM_ORDERS\n",
       "29                                  Other      6883.0\n",
       "2                       CWE - Made Effort      5109.0\n",
       "43                                Unknown      4634.0\n",
       "19  Max Number of Charge attempts reached      3737.0\n",
       "31                                  Price      3516.0\n",
       "24                                No_data      2767.0\n",
       "1                     CWE - Abandon Trial      2742.0\n",
       "22                       My cat won't eat      2235.0\n",
       "7                     Cats Stopped Eating      2226.0\n",
       "10                          Dead/Gone Cat      2021.0"
      ]
     },
     "execution_count": 17,
     "metadata": {},
     "output_type": "execute_result"
    }
   ],
   "source": [
    "df_o['MAX_SEQUENCE']=df_o.groupby(cid)['ORDER_SEQUENCE'].transform('max')\n",
    "\n",
    "df_c['REASON_PLAN']=df_c.apply(lambda x: f\"({x['TRIAL_PLAN']})__{x['CANCELLATION_REASON']}\", axis=1)\n",
    "# reason vs number of orders\n",
    "tmp_cancelled=df_c.loc[df_c['CANCELLATION_FLAG']=='INACTIVE']\n",
    "\n",
    "tmp=pd.merge(tmp_cancelled,df_o[[cid,'MAX_SEQUENCE']].drop_duplicates(), on=cid, how='left')\n",
    "tmp['MAX_SEQUENCE']=tmp['MAX_SEQUENCE']-1 # remove trial order\n",
    "tmp=tmp[['CANCELLATION_REASON','MAX_SEQUENCE']].groupby(['CANCELLATION_REASON']).sum().reset_index()\n",
    "tmp=tmp.sort_values(['MAX_SEQUENCE'], ascending=[False])\n",
    "tmp.rename(columns={'MAX_SEQUENCE':'NUM_ORDERS'}, inplace=True)\n",
    "# tmp.tmp['MAX_SEQUENCE'].sum()\n",
    "print(\"Top 10 cancellation reasons for users with orders \\n\") \n",
    "tmp.iloc[:10]"
   ]
  },
  {
   "cell_type": "code",
   "execution_count": 18,
   "metadata": {},
   "outputs": [
    {
     "name": "stdout",
     "output_type": "stream",
     "text": [
      "Top 10 cancellation Plan & Reasons for users with orders \n",
      "\n"
     ]
    },
    {
     "data": {
      "text/html": [
       "<div>\n",
       "<style scoped>\n",
       "    .dataframe tbody tr th:only-of-type {\n",
       "        vertical-align: middle;\n",
       "    }\n",
       "\n",
       "    .dataframe tbody tr th {\n",
       "        vertical-align: top;\n",
       "    }\n",
       "\n",
       "    .dataframe thead th {\n",
       "        text-align: right;\n",
       "    }\n",
       "</style>\n",
       "<table border=\"1\" class=\"dataframe\">\n",
       "  <thead>\n",
       "    <tr style=\"text-align: right;\">\n",
       "      <th></th>\n",
       "      <th>REASON_PLAN</th>\n",
       "      <th>NUM_ORDERS</th>\n",
       "    </tr>\n",
       "  </thead>\n",
       "  <tbody>\n",
       "    <tr>\n",
       "      <th>70</th>\n",
       "      <td>(FRESH)__Other</td>\n",
       "      <td>4135.0</td>\n",
       "    </tr>\n",
       "    <tr>\n",
       "      <th>43</th>\n",
       "      <td>(FRESH)__CWE - Made Effort</td>\n",
       "      <td>2699.0</td>\n",
       "    </tr>\n",
       "    <tr>\n",
       "      <th>83</th>\n",
       "      <td>(FRESH)__Unknown</td>\n",
       "      <td>2497.0</td>\n",
       "    </tr>\n",
       "    <tr>\n",
       "      <th>116</th>\n",
       "      <td>(MIX)__Other</td>\n",
       "      <td>2145.0</td>\n",
       "    </tr>\n",
       "    <tr>\n",
       "      <th>89</th>\n",
       "      <td>(MIX)__CWE - Made Effort</td>\n",
       "      <td>1901.0</td>\n",
       "    </tr>\n",
       "    <tr>\n",
       "      <th>106</th>\n",
       "      <td>(MIX)__Max Number of Charge attempts reached</td>\n",
       "      <td>1860.0</td>\n",
       "    </tr>\n",
       "    <tr>\n",
       "      <th>118</th>\n",
       "      <td>(MIX)__Price</td>\n",
       "      <td>1734.0</td>\n",
       "    </tr>\n",
       "    <tr>\n",
       "      <th>130</th>\n",
       "      <td>(MIX)__Unknown</td>\n",
       "      <td>1707.0</td>\n",
       "    </tr>\n",
       "    <tr>\n",
       "      <th>63</th>\n",
       "      <td>(FRESH)__My cat won't eat</td>\n",
       "      <td>1701.0</td>\n",
       "    </tr>\n",
       "    <tr>\n",
       "      <th>42</th>\n",
       "      <td>(FRESH)__CWE - Abandon Trial</td>\n",
       "      <td>1574.0</td>\n",
       "    </tr>\n",
       "  </tbody>\n",
       "</table>\n",
       "</div>"
      ],
      "text/plain": [
       "                                      REASON_PLAN  NUM_ORDERS\n",
       "70                                 (FRESH)__Other      4135.0\n",
       "43                     (FRESH)__CWE - Made Effort      2699.0\n",
       "83                               (FRESH)__Unknown      2497.0\n",
       "116                                  (MIX)__Other      2145.0\n",
       "89                       (MIX)__CWE - Made Effort      1901.0\n",
       "106  (MIX)__Max Number of Charge attempts reached      1860.0\n",
       "118                                  (MIX)__Price      1734.0\n",
       "130                                (MIX)__Unknown      1707.0\n",
       "63                      (FRESH)__My cat won't eat      1701.0\n",
       "42                   (FRESH)__CWE - Abandon Trial      1574.0"
      ]
     },
     "execution_count": 18,
     "metadata": {},
     "output_type": "execute_result"
    }
   ],
   "source": [
    "tmp=pd.merge(tmp_cancelled,df_o[[cid,'MAX_SEQUENCE']].drop_duplicates(), on=cid, how='left')\n",
    "tmp['MAX_SEQUENCE']=tmp['MAX_SEQUENCE']-1 # remove trial order\n",
    "tmp=tmp[['REASON_PLAN','MAX_SEQUENCE']].groupby(['REASON_PLAN']).sum().reset_index()\n",
    "tmp=tmp.sort_values(['MAX_SEQUENCE'], ascending=[False])\n",
    "tmp.rename(columns={'MAX_SEQUENCE':'NUM_ORDERS'}, inplace=True)\n",
    "# tmp.tmp['MAX_SEQUENCE'].sum()\n",
    "print(\"Top 10 cancellation Plan & Reasons for users with orders \\n\") \n",
    "tmp.iloc[:10]"
   ]
  },
  {
   "cell_type": "code",
   "execution_count": 19,
   "metadata": {},
   "outputs": [
    {
     "name": "stdout",
     "output_type": "stream",
     "text": [
      "         CUSTOMER_ID TRIAL_WEEK_date CANCELLATION_DATE_date  \\\n",
      "19751  5144353407075      2021-11-22             2021-05-23   \n",
      "\n",
      "                         CANCELLATION_REASON  \n",
      "19751  Max Number of Charge attempts reached  \n",
      "Problem with payment: fraudster (or card expired)\n"
     ]
    },
    {
     "data": {
      "text/html": [
       "<div>\n",
       "<style scoped>\n",
       "    .dataframe tbody tr th:only-of-type {\n",
       "        vertical-align: middle;\n",
       "    }\n",
       "\n",
       "    .dataframe tbody tr th {\n",
       "        vertical-align: top;\n",
       "    }\n",
       "\n",
       "    .dataframe thead th {\n",
       "        text-align: right;\n",
       "    }\n",
       "</style>\n",
       "<table border=\"1\" class=\"dataframe\">\n",
       "  <thead>\n",
       "    <tr style=\"text-align: right;\">\n",
       "      <th></th>\n",
       "      <th>ORDER_ID</th>\n",
       "      <th>CUSTOMER_ID</th>\n",
       "      <th>ORDER_DATE</th>\n",
       "      <th>ORDER_SEQUENCE</th>\n",
       "      <th>ORDER_TYPE</th>\n",
       "      <th>REVENUE</th>\n",
       "      <th>MARGIN</th>\n",
       "      <th>ORDER_DATE_date</th>\n",
       "      <th>ORDER_DATE_ymd</th>\n",
       "      <th>ORDER_DATE_ym</th>\n",
       "      <th>ORDER_DATE_WeekDay</th>\n",
       "      <th>ORDER_DATE_WeekDayName</th>\n",
       "      <th>ORDER_DATE_WeekNum</th>\n",
       "      <th>ORDER_DATE_Year_Week</th>\n",
       "      <th>MAX_SEQUENCE</th>\n",
       "    </tr>\n",
       "  </thead>\n",
       "  <tbody>\n",
       "    <tr>\n",
       "      <th>58715</th>\n",
       "      <td>4241902043235</td>\n",
       "      <td>5144353407075</td>\n",
       "      <td>2021-11-23 02:25:55</td>\n",
       "      <td>1</td>\n",
       "      <td>TRIAL</td>\n",
       "      <td>40.0</td>\n",
       "      <td>-3.41</td>\n",
       "      <td>2021-11-23</td>\n",
       "      <td>20211123</td>\n",
       "      <td>202111</td>\n",
       "      <td>1</td>\n",
       "      <td>Tue</td>\n",
       "      <td>47</td>\n",
       "      <td>2021_47</td>\n",
       "      <td>1.0</td>\n",
       "    </tr>\n",
       "  </tbody>\n",
       "</table>\n",
       "</div>"
      ],
      "text/plain": [
       "            ORDER_ID    CUSTOMER_ID          ORDER_DATE  ORDER_SEQUENCE  \\\n",
       "58715  4241902043235  5144353407075 2021-11-23 02:25:55               1   \n",
       "\n",
       "      ORDER_TYPE  REVENUE  MARGIN ORDER_DATE_date ORDER_DATE_ymd  \\\n",
       "58715      TRIAL     40.0   -3.41      2021-11-23       20211123   \n",
       "\n",
       "      ORDER_DATE_ym  ORDER_DATE_WeekDay ORDER_DATE_WeekDayName  \\\n",
       "58715        202111                   1                    Tue   \n",
       "\n",
       "       ORDER_DATE_WeekNum ORDER_DATE_Year_Week  MAX_SEQUENCE  \n",
       "58715                  47              2021_47           1.0  "
      ]
     },
     "execution_count": 19,
     "metadata": {},
     "output_type": "execute_result"
    }
   ],
   "source": [
    "# time since trial to cancel\n",
    "tmp_cancelled=tmp_cancelled.copy()\n",
    "tmp_cancelled['cancel_days']=tmp_cancelled[['TRIAL_WEEK_date','CANCELLATION_DATE_date']].apply(lambda x: date_time.dif_dates(x[0],x[1]), axis=1).copy()\n",
    "a=tmp_cancelled.loc[tmp_cancelled['cancel_days']<0].copy()\n",
    "print(a[[cid,'TRIAL_WEEK_date','CANCELLATION_DATE_date','CANCELLATION_REASON']])\n",
    "print('Problem with payment: fraudster (or card expired)')\n",
    "df_o.loc[(df_o[cid].isin(a[cid].tolist()))]"
   ]
  },
  {
   "cell_type": "code",
   "execution_count": 20,
   "metadata": {},
   "outputs": [],
   "source": [
    "#remove strange data\n",
    "tmp_cancelled=tmp_cancelled.loc[~(tmp_cancelled[cid].isin(a[cid].tolist()))]\n",
    "df_c=df_c.loc[~(df_c[cid].isin(a[cid].tolist()))].copy()\n",
    "df_o=df_o.loc[~(df_o[cid].isin(a[cid].tolist()))].copy()"
   ]
  },
  {
   "cell_type": "code",
   "execution_count": 21,
   "metadata": {},
   "outputs": [
    {
     "name": "stdout",
     "output_type": "stream",
     "text": [
      "Time to cancellation (All cancelled)\n"
     ]
    },
    {
     "data": {
      "text/plain": [
       "15     2931\n",
       "22     2136\n",
       "16     1647\n",
       "18     1469\n",
       "17     1396\n",
       "       ... \n",
       "803       1\n",
       "617       1\n",
       "538       1\n",
       "531       1\n",
       "639       1\n",
       "Name: cancel_days, Length: 728, dtype: int64"
      ]
     },
     "execution_count": 21,
     "metadata": {},
     "output_type": "execute_result"
    }
   ],
   "source": [
    "print(\"Time to cancellation (All cancelled)\")\n",
    "tmp_cancelled['cancel_days'].value_counts()"
   ]
  },
  {
   "cell_type": "code",
   "execution_count": 22,
   "metadata": {},
   "outputs": [
    {
     "data": {
      "text/plain": [
       "count    55066.000000\n",
       "mean        69.404351\n",
       "std         98.334900\n",
       "min          0.000000\n",
       "25%         18.000000\n",
       "50%         32.000000\n",
       "75%         74.000000\n",
       "max        833.000000\n",
       "Name: cancel_days, dtype: float64"
      ]
     },
     "execution_count": 22,
     "metadata": {},
     "output_type": "execute_result"
    }
   ],
   "source": [
    "tmp_cancelled['cancel_days'].describe()"
   ]
  },
  {
   "cell_type": "code",
   "execution_count": 23,
   "metadata": {},
   "outputs": [
    {
     "name": "stdout",
     "output_type": "stream",
     "text": [
      "-------------------------\n",
      "prev_order_days\n",
      "28.0     33209\n",
      "21.0      9548\n",
      "14.0      6183\n",
      "56.0      5022\n",
      "35.0      4465\n",
      "         ...  \n",
      "598.0        1\n",
      "679.0        1\n",
      "218.0        1\n",
      "530.0        1\n",
      "618.0        1\n",
      "Name: prev_order_days, Length: 464, dtype: int64\n",
      "-------------------------\n",
      "count    116299.000000\n",
      "mean         35.029777\n",
      "std          32.421112\n",
      "min           0.000000\n",
      "25%          21.000000\n",
      "50%          28.000000\n",
      "75%          37.000000\n",
      "max         788.000000\n",
      "Name: prev_order_days, dtype: float64\n",
      "\n",
      "\n"
     ]
    }
   ],
   "source": [
    "# order frequency\n",
    "tmp=df_o['ORDER_SEQUENCE']\n",
    "df_o=df_o.sort_values([cid,'ORDER_SEQUENCE'])\n",
    "\n",
    "# cancelled and replacement orders need to be analyzed separately\n",
    "# how replacement influence next orders and subscription??? \n",
    "# Orders after replacement\n",
    "# will focus on factual order sequence\n",
    "tmp=df_o.loc[~(df_o['ORDER_TYPE'].isin(['CANCELLED','REPLACEMENT']))].copy()\n",
    "\n",
    "# tmp['last_order']=tmp.groupby([cid])['ORDER_DATE_date'].apply(lambda x: x.shift())\n",
    "\n",
    "tmp['prev_order']=tmp[[cid,'ORDER_DATE_date']].groupby(cid).shift(1) \n",
    "\n",
    "tmp['prev_order_days']=tmp[['prev_order','ORDER_DATE_date']].apply(lambda x: date_time.dif_dates(x[0],x[1]), axis=1)\n",
    "\n",
    "# check if there are issues \n",
    "a=tmp.loc[tmp['prev_order_days']<0]\n",
    "if a.shape[0]>1:\n",
    "    print(\"issue with prev_order_days\")\n",
    "\n",
    "a=tmp.loc[df_o[cid]==2891053170787]\n",
    "c='prev_order_days'\n",
    "print(\"-------------------------\")\n",
    "print(c)\n",
    "print(tmp['prev_order_days'].value_counts())\n",
    "print(\"-------------------------\")\n",
    "print(tmp['prev_order_days'].describe())\n",
    "\n",
    "\n",
    "print(\"\\n\")\n"
   ]
  },
  {
   "cell_type": "code",
   "execution_count": 24,
   "metadata": {},
   "outputs": [
    {
     "name": "stdout",
     "output_type": "stream",
     "text": [
      "Current user status\n"
     ]
    },
    {
     "data": {
      "text/html": [
       "<div>\n",
       "<style scoped>\n",
       "    .dataframe tbody tr th:only-of-type {\n",
       "        vertical-align: middle;\n",
       "    }\n",
       "\n",
       "    .dataframe tbody tr th {\n",
       "        vertical-align: top;\n",
       "    }\n",
       "\n",
       "    .dataframe thead th {\n",
       "        text-align: right;\n",
       "    }\n",
       "</style>\n",
       "<table border=\"1\" class=\"dataframe\">\n",
       "  <thead>\n",
       "    <tr style=\"text-align: right;\">\n",
       "      <th></th>\n",
       "      <th>CANCELLATION_FLAG</th>\n",
       "      <th>number</th>\n",
       "      <th>share</th>\n",
       "    </tr>\n",
       "  </thead>\n",
       "  <tbody>\n",
       "    <tr>\n",
       "      <th>0</th>\n",
       "      <td>ACTIVE</td>\n",
       "      <td>17511</td>\n",
       "      <td>0.241275</td>\n",
       "    </tr>\n",
       "    <tr>\n",
       "      <th>1</th>\n",
       "      <td>INACTIVE</td>\n",
       "      <td>55066</td>\n",
       "      <td>0.758725</td>\n",
       "    </tr>\n",
       "  </tbody>\n",
       "</table>\n",
       "</div>"
      ],
      "text/plain": [
       "  CANCELLATION_FLAG  number     share\n",
       "0            ACTIVE   17511  0.241275\n",
       "1          INACTIVE   55066  0.758725"
      ]
     },
     "execution_count": 24,
     "metadata": {},
     "output_type": "execute_result"
    }
   ],
   "source": [
    "# active clients with orders (after trial)\n",
    "print(\"Current user status\")\n",
    "#print(df_c['CANCELLATION_FLAG'].value_counts())\n",
    "tmptmp=df_c.groupby(['CANCELLATION_FLAG']).size().reset_index()\n",
    "tmptmp.rename(columns={0: \"number\"}, inplace=True)\n",
    "tmptmp['share']=tmptmp['number']/tmptmp['number'].sum()\n",
    "tmptmp"
   ]
  },
  {
   "cell_type": "markdown",
   "metadata": {},
   "source": [
    "Current active users with at least one order. These users actually create moneyflow (if margin positive), as result of the orders food needs to be produced and delivered. So this is factual demand according to which production should be planned."
   ]
  },
  {
   "cell_type": "code",
   "execution_count": 25,
   "metadata": {},
   "outputs": [
    {
     "name": "stdout",
     "output_type": "stream",
     "text": [
      "\n",
      "Current active users with at least one order (not trial)\n",
      "Active users (with subscription) : 10845\n",
      "Active users share: 24.127478 %\n",
      "Active users with current subscription share: 14.942750 %\n"
     ]
    }
   ],
   "source": [
    "tmp=df_o.loc[(df_o['ORDER_SEQUENCE'].notnull()) & (df_o['ORDER_SEQUENCE']>1)][[cid]].drop_duplicates()\n",
    "print(\"\\nCurrent active users with at least one order (not trial)\")\n",
    "tmp=pd.merge(df_c.loc[df_c['CANCELLATION_FLAG']=='ACTIVE'][[cid]],tmp, on=cid, how=\"inner\")\n",
    "print(f\"Active users (with subscription) : {tmp.shape[0]}\")\n",
    "print(f\"Active users share: {100*tmptmp.loc[tmptmp['CANCELLATION_FLAG']=='ACTIVE']['share'].values[0]:2f} %\")\n",
    "print(f\"Active users with current subscription share: {100*tmp.shape[0]/tmptmp['number'].sum():2f} %\")"
   ]
  },
  {
   "cell_type": "code",
   "execution_count": null,
   "metadata": {},
   "outputs": [],
   "source": []
  },
  {
   "cell_type": "markdown",
   "metadata": {},
   "source": [
    "## Marketing insights"
   ]
  },
  {
   "cell_type": "code",
   "execution_count": 26,
   "metadata": {},
   "outputs": [
    {
     "name": "stdout",
     "output_type": "stream",
     "text": [
      "\n",
      "Top 10 BEST sources by Revenue\n",
      "                                                       REVENUE      MARGIN\n",
      "GA_SOURCE                                                                 \n",
      "No_data                                             6697683.76  1177431.68\n",
      "google                                              3139029.87   662044.37\n",
      "affiliate                                           2338322.54   443156.11\n",
      "facebook                                            1997094.12   285865.83\n",
      "(direct)                                            1799965.48   326930.15\n",
      "49f00cac7e8144cd83d5cd0f6cd67434.pages.ubembed.com   694477.89   102973.89\n",
      "email                                                574869.92    62032.94\n",
      "retention                                            190124.25    34612.73\n",
      "impact_affiliate                                     176472.22    40029.13\n",
      "instagram                                            148176.50    24964.75\n",
      "\n",
      "Top 10 WORST sources by Revenue\n",
      "                                                    REVENUE  MARGIN\n",
      "GA_SOURCE                                                          \n",
      "foodrepublic.com                                      32.25   -5.61\n",
      "snapchat                                              33.75   -4.95\n",
      "link.edgepilot.com                                    33.75  -11.02\n",
      "msn.com                                               33.75  -18.41\n",
      "command-center.uiprod.west2.steelhouse.com            33.75  -20.86\n",
      "pet.reviews                                           33.75   -8.41\n",
      "webmail1.earthlink.net                                33.75   -7.03\n",
      "nymag.com                                             35.00   -4.76\n",
      "tiktok.com                                            35.00   -9.60\n",
      "8085c829793d765977c9319ab31d609c.safeframe.goog...    35.00   -7.38\n",
      "\n",
      "Top 10 BEST sources by MARGIN\n",
      "                                                       REVENUE      MARGIN\n",
      "GA_SOURCE                                                                 \n",
      "No_data                                             6697683.76  1177431.68\n",
      "google                                              3139029.87   662044.37\n",
      "affiliate                                           2338322.54   443156.11\n",
      "(direct)                                            1799965.48   326930.15\n",
      "facebook                                            1997094.12   285865.83\n",
      "49f00cac7e8144cd83d5cd0f6cd67434.pages.ubembed.com   694477.89   102973.89\n",
      "email                                                574869.92    62032.94\n",
      "impact_affiliate                                     176472.22    40029.13\n",
      "retention                                            190124.25    34612.73\n",
      "instagram                                            148176.50    24964.75\n",
      "\n",
      "Top 10 WORST sources by MARGIN\n",
      "                           REVENUE   MARGIN\n",
      "GA_SOURCE                                  \n",
      "partnership                7963.75 -2087.94\n",
      "app.shortcut.com           1233.50  -685.51\n",
      "newsletter                  617.00  -140.97\n",
      "mercola.com                1765.75  -104.30\n",
      "consumervoice.org           302.75   -89.02\n",
      "lolcats.com                 176.75   -88.90\n",
      "nortonsafe.search.ask.com   214.75   -85.90\n",
      "oceanhero.today             141.75   -70.05\n",
      "mail.google.com             873.25   -68.48\n",
      "startpage.com               182.50   -61.36\n",
      "\n",
      "Top 10 BEST sources_media combination by MARGIN\n",
      "                                                       REVENUE      MARGIN\n",
      "source_medium                                                             \n",
      "No_data_No_data                                     6697683.76  1177431.68\n",
      "affiliate_impact                                    2335170.29   443065.79\n",
      "google_cpc                                          1917860.17   392029.80\n",
      "(direct)_(none)                                     1799965.48   326930.15\n",
      "google_organic                                      1221169.70   270014.57\n",
      "facebook_prospecting                                1095181.49   140304.84\n",
      "49f00cac7e8144cd83d5cd0f6cd67434.pages.ubembed....   694477.89   102973.89\n",
      "facebook_retargeting                                 358018.38    56645.20\n",
      "retention_SMS                                        183134.50    32442.67\n",
      "email_trigger                                        177007.90    31109.98\n",
      "\n",
      "Top 10 WORST sources_media combination by MARGIN\n",
      "                                                     REVENUE   MARGIN\n",
      "source_medium                                                        \n",
      "email_partner                                       18449.75 -1615.56\n",
      "partnership_blast                                    4835.00 -1581.78\n",
      "app.shortcut.com_referral                            1233.50  -685.51\n",
      "influencer_centus                                    2844.50  -351.09\n",
      "tapjoy_3a10ae822df8dc11791475fc9650814cb2ba60c0...   3741.00  -349.76\n",
      "partnership_email                                    2539.75  -329.26\n",
      "tapjoy_7745acef806c4a1ae5292d83a72f9c99beada18a...   1608.75  -278.26\n",
      "partnership_influencer                                589.00  -176.90\n",
      "newsletter_email                                      617.00  -140.97\n",
      "tapjoy_67df81c117c8ac50efbac800a11811bad811d7cc...    521.00  -123.32\n"
     ]
    }
   ],
   "source": [
    "# By channel\n",
    "tmp=df_o.groupby([cid])[['REVENUE', 'MARGIN']].sum().reset_index()\n",
    "tmptmp=pd.merge(df_c,tmp, on=cid, how='left')\n",
    "tmptmp['source_medium']=tmptmp.apply(lambda x: f\"{x['GA_SOURCE']}_{x['GA_MEDIUM']}\", axis=1)\n",
    "\n",
    "\n",
    "a=tmptmp.groupby('GA_SOURCE')[['REVENUE', 'MARGIN']].sum()\n",
    "print (\"\\nTop 10 BEST sources by Revenue\")\n",
    "print(a.sort_values('REVENUE', ascending=[False]).head(10))\n",
    "print (\"\\nTop 10 WORST sources by Revenue\")\n",
    "print(a.sort_values('REVENUE', ascending=[True]).head(10))\n",
    "\n",
    "print (\"\\nTop 10 BEST sources by MARGIN\")\n",
    "print(a.sort_values('MARGIN', ascending=[False]).head(10))\n",
    "print (\"\\nTop 10 WORST sources by MARGIN\")\n",
    "print(a.sort_values('MARGIN', ascending=[True]).head(10))\n",
    "\n",
    "a=tmptmp.groupby('source_medium')[['REVENUE', 'MARGIN']].sum()\n",
    "print (\"\\nTop 10 BEST sources_media combination by MARGIN\")\n",
    "print(a.sort_values('MARGIN', ascending=[False]).head(10))\n",
    "print (\"\\nTop 10 WORST sources_media combination by MARGIN\")\n",
    "print(a.sort_values('MARGIN', ascending=[True]).head(10))\n"
   ]
  },
  {
   "cell_type": "markdown",
   "metadata": {},
   "source": [
    "### Qestions not covered:\n",
    "- Convertion by channel\n",
    "- Convertion by channel_medium combination"
   ]
  },
  {
   "cell_type": "markdown",
   "metadata": {},
   "source": [
    "## Convertion funnel. Customer satisfaction analysis\n",
    "\n",
    "\n",
    "- Helps to understand if company can build long-term relations?\n",
    "- can show distribution of orders from clients of different maturity (what clients company serves each month)\n",
    "\n",
    "\n",
    "Cohorts = users acquired whithin month\n",
    "\n",
    "NB. \n",
    "\n",
    "- Better to use week as it is constant in length\n",
    "- Funnel depth is dependant on the maturity (months since activation)"
   ]
  },
  {
   "cell_type": "code",
   "execution_count": 28,
   "metadata": {},
   "outputs": [
    {
     "data": {
      "image/png": "[encoded data removed]",
      "text/plain": [
       "<Figure size 1080x1080 with 30 Axes>"
      ]
     },
     "metadata": {
      "needs_background": "light"
     },
     "output_type": "display_data"
    }
   ],
   "source": [
    "tmp=df_o.loc[(df_o['ORDER_TYPE']=='SUBSCRIPTION')].copy()\n",
    "tmp=pd.merge(tmp, df_c[[cid, 'TRIAL_WEEK_ym']], on=cid, how='left')\n",
    "tmptmp=tmp.groupby(['TRIAL_WEEK_ym','ORDER_SEQUENCE']).agg('size').reset_index()\n",
    "tmptmp.rename(columns={0:'num_orders'}, inplace=True)\n",
    "tmptmp['TRIAL_WEEK_ym_seq']=tmptmp.apply(lambda x: f\"{x['TRIAL_WEEK_ym']}_{x['ORDER_SEQUENCE']}\", axis=1)\n",
    "\n",
    "\n",
    "m=tmptmp['TRIAL_WEEK_ym'].unique().tolist()\n",
    "ym=tmptmp['num_orders'].max()\n",
    "\n",
    "\n",
    "\n",
    "lm=len(m)\n",
    "if lm%3==0:\n",
    "    r=lm//3\n",
    "else:\n",
    "    r=lm//3+1\n",
    "    \n",
    "fig, axs = plt.subplots(r, 3, sharex='all', sharey='all',figsize=(15,15))\n",
    "rr=0\n",
    "cn=0\n",
    "mm=tmp['ORDER_SEQUENCE'].max()\n",
    "for c in m:    \n",
    "    a=tmptmp.loc[tmptmp['TRIAL_WEEK_ym']==c].copy()\n",
    "    axs[rr,cn].plot(a['ORDER_SEQUENCE'],a['num_orders'], label=c)\n",
    "    axs[rr,cn].set_title(c)\n",
    "    axs[rr,cn].xaxis.set_ticks(np.arange(0, mm+5, 5))\n",
    "    axs[rr,cn].yaxis.set_ticks(np.arange(0, 2000, 250))\n",
    "    axs[rr,cn].set_ylabel('num_clients', fontsize=10)\n",
    "    axs[rr,cn].set_xlabel('sequence of orders', fontsize=10)\n",
    "    \n",
    "    cn+=1\n",
    "    if cn==3:\n",
    "        cn=0\n",
    "        rr+=1\n",
    "#plt.xticks(rotation = 90) # Rotates X-Axis Ticks by 45-degrees\n",
    "# plt.legend(loc='upper center', bbox_to_anchor=(0.5, -0.05), ncol=10)\n",
    "\n",
    "fig.tight_layout()\n",
    "fig.suptitle('Number of orders (sequence) for clients acquired during month ', y=1.05, fontsize=16)\n",
    "plt.show()\n",
    "plt.close()"
   ]
  },
  {
   "cell_type": "code",
   "execution_count": null,
   "metadata": {},
   "outputs": [],
   "source": [
    "# in PCNT\n",
    "tmp=df_o.loc[df_o['ORDER_TYPE'].isin(['SUBSCRIPTION','TRIAL'])].copy()\n",
    "tmp=pd.merge(tmp, df_c[[cid, 'TRIAL_WEEK_ym']], on=cid, how='left')\n",
    "tmptmp=tmp.groupby(['TRIAL_WEEK_ym','ORDER_SEQUENCE']).agg('size').reset_index()\n",
    "tmptmp.rename(columns={0:'num_orders'}, inplace=True)\n",
    "tmptmp['TRIAL_WEEK_ym_seq']=tmptmp.apply(lambda x: f\"{x['TRIAL_WEEK_ym']}_{x['ORDER_SEQUENCE']}\", axis=1)\n",
    "tmptmp['num_orders_prev']=tmptmp[['TRIAL_WEEK_ym','num_orders']].groupby('TRIAL_WEEK_ym').shift(1).astype('Int64')\n",
    "tmptmp['num_orders_prev_change']=100*tmptmp['num_orders']/tmptmp['num_orders_prev']\n",
    "\n",
    "tmptmp=tmptmp.loc[tmptmp['ORDER_SEQUENCE']>1].copy()\n",
    "\n",
    "tmptmp.loc[tmptmp['TRIAL_WEEK_ym']=='202001'][['TRIAL_WEEK_ym','ORDER_SEQUENCE','num_orders','num_orders_prev','num_orders_prev_change']].head()"
   ]
  },
  {
   "cell_type": "markdown",
   "metadata": {},
   "source": [
    "Higher percentage means that there is better retention (less loss of clients).\n",
    "From the previous table for users acquired from 2020_01 can be observed that there were 1696 orders with sequence 1 and only 38% proceeded to order 2."
   ]
  },
  {
   "cell_type": "code",
   "execution_count": null,
   "metadata": {},
   "outputs": [],
   "source": [
    "fig, axs = plt.subplots(r, 3, sharex='all', sharey='all',figsize=(15,15))\n",
    "rr=0\n",
    "cn=0\n",
    "mm=tmp['ORDER_SEQUENCE'].max()\n",
    "for c in m:    \n",
    "    a=tmptmp.loc[(tmptmp['TRIAL_WEEK_ym']==c)].copy()\n",
    "    axs[rr,cn].plot(a['ORDER_SEQUENCE'],a['num_orders_prev_change'], label=c)\n",
    "    axs[rr,cn].set_title(c)\n",
    "    axs[rr,cn].xaxis.set_ticks(np.arange(0, mm+5, 5))\n",
    "    axs[rr,cn].yaxis.set_ticks(np.arange(0, 105, 25))\n",
    "    axs[rr,cn].set_ylabel('retention', fontsize=10)\n",
    "    axs[rr,cn].set_xlabel('sequence of orders', fontsize=10)\n",
    "    cn+=1\n",
    "    if cn==3:\n",
    "        cn=0\n",
    "        rr+=1\n",
    "#plt.xticks(rotation = 90) # Rotates X-Axis Ticks by 45-degrees\n",
    "# plt.legend(loc='upper center', bbox_to_anchor=(0.5, -0.05), ncol=10)\n",
    "fig.tight_layout()\n",
    "fig.suptitle('Retention for clients acquired during month (percentage)', y=1.05, fontsize=16)\n",
    "plt.show()\n",
    "plt.close()"
   ]
  },
  {
   "cell_type": "code",
   "execution_count": null,
   "metadata": {},
   "outputs": [],
   "source": [
    "a=tmptmp.loc[tmptmp['ORDER_SEQUENCE']==2][['num_orders_prev_change']]\n",
    "print(f\"Average retention of clients after first order is {a['num_orders_prev_change'].mean():.2f}% (median: {a['num_orders_prev_change'].median():.2f}%)\")"
   ]
  },
  {
   "cell_type": "code",
   "execution_count": null,
   "metadata": {},
   "outputs": [],
   "source": [
    "# How good is the convertion rate per cohort\n",
    "\n",
    "a=tmptmp.loc[tmptmp['ORDER_SEQUENCE']==2].copy()\n",
    "a=a.iloc[:-1] #will remove last month as it seems to be not matured\n",
    "plt.plot(a['TRIAL_WEEK_ym'],a['num_orders_prev_change'])\n",
    "t=[a['num_orders_prev_change'].mean()]*a.shape[0]\n",
    "plt.plot(a['TRIAL_WEEK_ym'],t)\n",
    "plt.xticks(rotation = 90) # Rotates X-Axis Ticks by degrees\n",
    "# plt.legend()\n",
    "plt.title(\"Convertion rate after Trial per cohort (mean for reference)\")\n",
    "plt.show()\n",
    "\n",
    "print(f\" Mean convertion rate {a['num_orders_prev_change'].mean():.2f} %\")"
   ]
  },
  {
   "cell_type": "code",
   "execution_count": null,
   "metadata": {},
   "outputs": [],
   "source": [
    "# understanding sequence\n",
    "\n",
    "order_trial_num=df_o.loc[(df_o['ORDER_SEQUENCE'].notnull()) & (df_o['ORDER_SEQUENCE']==1)].shape[0]\n",
    "if order_trial_num==len(customers):\n",
    "    print(\"All customers first get sample\")\n",
    "else:\n",
    "    print(f\"Some customers haven't got trial sample ({len(customers)-order_trial_num})\")\n",
    "\n",
    "# number of converted \n",
    "converted=df_o.loc[(df_o['ORDER_SEQUENCE'].notnull()) & (df_o['ORDER_SEQUENCE']>1),cid].unique()\n",
    "num_conv=len(converted)\n",
    "not_converted=[x for x in customers if x not in converted]\n",
    "print(f\"{num_conv} customers converted after trial ({100*num_conv/num_cust:.2f}%)\")  \n",
    "     "
   ]
  },
  {
   "cell_type": "code",
   "execution_count": null,
   "metadata": {},
   "outputs": [],
   "source": [
    "#performance by month (clients)\n",
    "\n",
    "tmp=df_c.groupby(['TRIAL_WEEK_ym'])[cid].size().reset_index().copy()\n",
    "tmp"
   ]
  },
  {
   "cell_type": "code",
   "execution_count": null,
   "metadata": {},
   "outputs": [],
   "source": [
    "plt.title('Number of Clients by month (acquisition)')\n",
    "plt.plot(tmp['TRIAL_WEEK_ym'],tmp[cid], label=\"Clients\")\n",
    "plt.xticks(rotation = 90) # Rotates X-Axis Ticks by degrees\n",
    "plt.legend()\n",
    "plt.grid(color='lightgrey', linestyle=':', linewidth=1)\n",
    "plt.show()"
   ]
  },
  {
   "cell_type": "markdown",
   "metadata": {},
   "source": [
    "## Financial insignts"
   ]
  },
  {
   "cell_type": "code",
   "execution_count": null,
   "metadata": {},
   "outputs": [],
   "source": [
    "fraud cancellation = Max Number of Charge attempts reached"
   ]
  },
  {
   "cell_type": "code",
   "execution_count": null,
   "metadata": {},
   "outputs": [],
   "source": [
    "# What is GMV (revenue) and LTV (margin) per client?\n",
    "tmp=df_o[[cid,'REVENUE', 'MARGIN']].groupby([cid]).sum().reset_index().copy()\n",
    "tmp=tmp.sort_values('MARGIN')\n",
    "\n",
    "print(\"-----------------------\")\n",
    "print('top 10 least profitable clients')\n",
    "tmp.head(10)"
   ]
  },
  {
   "cell_type": "code",
   "execution_count": null,
   "metadata": {},
   "outputs": [],
   "source": [
    "print(\"-----------------------\")\n",
    "print('top 10 most profitable clients')\n",
    "tmp.tail(10)"
   ]
  },
  {
   "cell_type": "markdown",
   "metadata": {},
   "source": [
    "### What share of all clients have porisitve LTV (margin)?"
   ]
  },
  {
   "cell_type": "code",
   "execution_count": null,
   "metadata": {},
   "outputs": [],
   "source": [
    "#how many clients with positive / negative LTV margin?\n",
    "num_pos=tmp.loc[tmp['MARGIN']>=0].shape[0]\n",
    "print(f\"{num_pos} clients create profit ({100*num_pos/len(customers):.2f} %)\")\n",
    "\n",
    "# total GMV, total Margin \n",
    "print(f\"total\\nGMV: {tmp['REVENUE'].sum():.2f} \\nLVT: {tmp['MARGIN'].sum():.2f}\")"
   ]
  },
  {
   "cell_type": "code",
   "execution_count": null,
   "metadata": {},
   "outputs": [],
   "source": [
    "#total profit to total loss"
   ]
  },
  {
   "cell_type": "code",
   "execution_count": null,
   "metadata": {},
   "outputs": [],
   "source": [
    "# what is result for those only on trial\n",
    "tmptmp=tmp.loc[tmp[cid].isin(not_converted)].copy()\n",
    "print(f\"Total  (have only Trial) ~ cost of Trials \\nGMV: {tmptmp['REVENUE'].sum():.2f} \\nLVT: {tmptmp['MARGIN'].sum():.2f}\")"
   ]
  },
  {
   "cell_type": "code",
   "execution_count": null,
   "metadata": {},
   "outputs": [],
   "source": [
    "#orders by month, week\n",
    "tmp=df_o.loc[(df_o['ORDER_TYPE']=='SUBSCRIPTION')].copy()\n",
    "tmptmp=tmp.groupby(['ORDER_DATE_ym']).agg('size').reset_index()\n",
    "tmptmp.rename(columns={0:'num_orders'}, inplace=True)\n",
    "\n",
    "tmp=df_o.loc[(df_o['ORDER_TYPE']=='TRIAL')].copy()\n",
    "tmptmp2=tmp.groupby(['ORDER_DATE_ym']).agg('size').reset_index()\n",
    "tmptmp2.rename(columns={0:'num_trials'}, inplace=True)\n",
    "\n",
    "plt.title('Number of orders by month')\n",
    "plt.plot(tmptmp['ORDER_DATE_ym'],tmptmp['num_orders'], label=\"Orders\")\n",
    "plt.plot(tmptmp2['ORDER_DATE_ym'],tmptmp2['num_trials'], label=\"Trials\")\n",
    "plt.xticks(rotation = 90) # Rotates X-Axis Ticks by degrees\n",
    "plt.legend()\n",
    "plt.grid(color='lightgrey', linestyle=':', linewidth=1)\n",
    "plt.show()\n",
    "\n",
    "print(\"There can be lag between 1) marketing campaigns 2) trials (result of campaigns) and 3) next order (subscription after trial)\")\n"
   ]
  },
  {
   "cell_type": "code",
   "execution_count": null,
   "metadata": {},
   "outputs": [],
   "source": [
    "tmp=df_o.loc[(df_o['ORDER_TYPE']=='SUBSCRIPTION')].copy()\n",
    "tmptmp=tmp.groupby(['ORDER_DATE_ym'])[['REVENUE','MARGIN']].sum().reset_index().copy()\n",
    "\n",
    "#will remove last month as it is not complete\n",
    "tmptmp=tmptmp[:-1]\n",
    "\n",
    "plt.title('Financial results by month')\n",
    "plt.plot(tmptmp['ORDER_DATE_ym'],tmptmp['MARGIN'], label=\"Margin\")\n",
    "plt.plot(tmptmp['ORDER_DATE_ym'],tmptmp['REVENUE'], label=\"Reveue\")\n",
    "plt.xticks(rotation = 90) # Rotates X-Axis Ticks by degrees\n",
    "plt.grid(color='lightgrey', linestyle=':', linewidth=1)\n",
    "plt.legend()\n",
    "plt.show()"
   ]
  },
  {
   "cell_type": "code",
   "execution_count": null,
   "metadata": {},
   "outputs": [],
   "source": [
    "\n"
   ]
  }
 ],
 "metadata": {
  "kernelspec": {
   "display_name": "Python 3",
   "language": "python",
   "name": "python3"
  },
  "language_info": {
   "codemirror_mode": {
    "name": "ipython",
    "version": 3
   },
   "file_extension": ".py",
   "mimetype": "text/x-python",
   "name": "python",
   "nbconvert_exporter": "python",
   "pygments_lexer": "ipython3",
   "version": "3.7.6"
  }
 },
 "nbformat": 4,
 "nbformat_minor": 4
}
