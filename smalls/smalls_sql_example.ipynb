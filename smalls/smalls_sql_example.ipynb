{
 "cells": [
  {
   "cell_type": "markdown",
   "metadata": {},
   "source": [
    "## SQL queries example\n",
    "\n",
    "This file is for the reason to demonstrate SQL skills"
   ]
  },
  {
   "cell_type": "markdown",
   "metadata": {},
   "source": [
    "1. Get data"
   ]
  },
  {
   "cell_type": "code",
   "execution_count": 1,
   "metadata": {},
   "outputs": [],
   "source": [
    "# -*- coding: utf-8 -*-\n",
    "\"\"\"\n",
    "Created on Thu Jun  2 21:34:41 2022\n",
    "\n",
    "@author: Yury\n",
    "\"\"\"\n",
    "\n",
    "import pandas as pd\n",
    "path=r'C:\\a_job\\2022\\smalls (cat food)\\task\\data'\n",
    "\n",
    "df_o=pd.read_excel(f\"{path}\\Analyst Exercise - FACT_ORDERS.xlsx\")\n",
    "df_c=pd.read_excel(f\"{path}\\Analyst Exercise - DIM_CUSTOMERS.xlsx\")"
   ]
  },
  {
   "cell_type": "markdown",
   "metadata": {},
   "source": [
    "2. Create database tables"
   ]
  },
  {
   "cell_type": "code",
   "execution_count": 5,
   "metadata": {},
   "outputs": [],
   "source": [
    "import sqlite3\n",
    "# connection object\n",
    "connection_obj = sqlite3.connect('smalls_database_jp.db')\n",
    " \n",
    "# cursor object\n",
    "cursor_obj = connection_obj.cursor()\n",
    "\n",
    "cursor_obj.execute('''\n",
    "          CREATE TABLE IF NOT EXISTS FACT_ORDERS\n",
    "          ([ORDER_ID] INTEGER PRIMARY KEY, \n",
    "          [CUSTOMER_ID] INTEGER, \n",
    "          [ORDER_DATE] , \n",
    "          [ORDER_SEQUENCE] INTEGER, \n",
    "          [ORDER_TYPE] TEXT,\n",
    "          [REVENUE] REAL, \n",
    "          [MARGIN] REAL\n",
    "          )\n",
    "          ''')\n",
    "          \n",
    "cursor_obj.execute('''\n",
    "          CREATE TABLE IF NOT EXISTS DIM_CUSTOMERS\n",
    "          ([CUSTOMER_ID] INTEGER PRIMARY KEY,\n",
    "          [TRIAL_WEEK], \n",
    "          [TRIAL_PLAN] TEXT,\n",
    "          [GA_SOURCE] TEXT,\n",
    "          [GA_MEDIUM] TEXT,\n",
    "          [CANCELLATION_FLAG] TEXT,\n",
    "          [CANCELLATION_DATE], \n",
    "          [CANCELLATION_REASON] TEXT,\n",
    "          [CAT_COUNT] INTEGER\n",
    "          )\n",
    "          ''')\n",
    "\n",
    "connection_obj.commit()"
   ]
  },
  {
   "cell_type": "markdown",
   "metadata": {},
   "source": [
    "3. Data appeared to have not unique CUSTOMER_ID in DIM_CUSTOMERS -> remove duplicates"
   ]
  },
  {
   "cell_type": "code",
   "execution_count": 3,
   "metadata": {},
   "outputs": [
    {
     "name": "stdout",
     "output_type": "stream",
     "text": [
      "Duplicates in Customer [5359139848291]\n",
      "         CUSTOMER_ID TRIAL_WEEK TRIAL_PLAN GA_SOURCE GA_MEDIUM  \\\n",
      "35982  5359139848291 2021-08-02      FRESH       NaN       NaN   \n",
      "36089  5359139848291 2021-08-02      FRESH       NaN       NaN   \n",
      "\n",
      "      CANCELLATION_FLAG   CANCELLATION_DATE CANCELLATION_REASON  CAT_COUNT  \n",
      "35982          INACTIVE 2021-08-31 12:53:17               Other        1.0  \n",
      "36089          INACTIVE 2021-08-05 09:25:37               Other        1.0  \n"
     ]
    }
   ],
   "source": [
    "tmp=df_c.groupby(['CUSTOMER_ID']).size().reset_index().copy()\n",
    "tmp.rename(columns={0:\"count\"}, inplace =True)  \n",
    "duplicate_id=tmp.loc[tmp[\"count\"]>1]['CUSTOMER_ID'].tolist()\n",
    "print(\"Duplicates in Customer\", duplicate_id)\n",
    "print(df_c.loc[df_c['CUSTOMER_ID'].isin(duplicate_id)])\n",
    "df_c=df_c.loc[~(df_c['CUSTOMER_ID'].isin(duplicate_id))].copy()\n",
    "df_o=df_o.loc[~(df_o['CUSTOMER_ID'].isin(duplicate_id))].copy()"
   ]
  },
  {
   "cell_type": "markdown",
   "metadata": {},
   "source": [
    "4. Insert data"
   ]
  },
  {
   "cell_type": "code",
   "execution_count": 6,
   "metadata": {},
   "outputs": [],
   "source": [
    "#insert\n",
    "df=df_c[['CUSTOMER_ID', 'TRIAL_WEEK', 'TRIAL_PLAN', 'GA_SOURCE', 'GA_MEDIUM',\n",
    "       'CANCELLATION_FLAG', 'CANCELLATION_DATE', 'CANCELLATION_REASON',\n",
    "       'CAT_COUNT']].copy()\n",
    "df.to_sql(name='DIM_CUSTOMERS', con=connection_obj, if_exists='append', index=False)\n",
    "\n",
    "df=df_o[['ORDER_ID', 'CUSTOMER_ID', 'ORDER_DATE', 'ORDER_SEQUENCE', 'ORDER_TYPE',\n",
    "       'REVENUE', 'MARGIN']].copy()\n",
    "df.to_sql(name='FACT_ORDERS', con=connection_obj, if_exists='append', index=False)\n",
    "\n",
    "connection_obj.commit()"
   ]
  },
  {
   "cell_type": "markdown",
   "metadata": {},
   "source": [
    "5. Check data"
   ]
  },
  {
   "cell_type": "code",
   "execution_count": 7,
   "metadata": {},
   "outputs": [],
   "source": [
    "#check data\n",
    "cursor_obj.execute('''select * from DIM_CUSTOMERS limit 10''')\n",
    "df = pd.DataFrame(cursor_obj.fetchall())                "
   ]
  },
  {
   "cell_type": "code",
   "execution_count": 8,
   "metadata": {},
   "outputs": [],
   "source": [
    "cursor_obj.execute('''select * from FACT_ORDERS limit 10''')\n",
    "df = pd.DataFrame(cursor_obj.fetchall())    "
   ]
  },
  {
   "cell_type": "markdown",
   "metadata": {},
   "source": [
    "6. Example of Query:\n",
    "    \n",
    "    **Get information about retention as of number of sequential orders for users that where acuired during month (trial_week aggregated to month)**\n",
    "    \n",
    "    \n",
    "    "
   ]
  },
  {
   "cell_type": "code",
   "execution_count": 9,
   "metadata": {},
   "outputs": [
    {
     "data": {
      "text/html": [
       "<div>\n",
       "<style scoped>\n",
       "    .dataframe tbody tr th:only-of-type {\n",
       "        vertical-align: middle;\n",
       "    }\n",
       "\n",
       "    .dataframe tbody tr th {\n",
       "        vertical-align: top;\n",
       "    }\n",
       "\n",
       "    .dataframe thead th {\n",
       "        text-align: right;\n",
       "    }\n",
       "</style>\n",
       "<table border=\"1\" class=\"dataframe\">\n",
       "  <thead>\n",
       "    <tr style=\"text-align: right;\">\n",
       "      <th></th>\n",
       "      <th>TRIAL_MONTH</th>\n",
       "      <th>ORDER_SEQUENCE</th>\n",
       "      <th>num_orders</th>\n",
       "      <th>prev_num_orders</th>\n",
       "      <th>retention</th>\n",
       "    </tr>\n",
       "  </thead>\n",
       "  <tbody>\n",
       "    <tr>\n",
       "      <th>0</th>\n",
       "      <td>2020-01-01</td>\n",
       "      <td>2</td>\n",
       "      <td>652</td>\n",
       "      <td>NaN</td>\n",
       "      <td>NaN</td>\n",
       "    </tr>\n",
       "    <tr>\n",
       "      <th>1</th>\n",
       "      <td>2020-01-01</td>\n",
       "      <td>3</td>\n",
       "      <td>475</td>\n",
       "      <td>652.0</td>\n",
       "      <td>72.852761</td>\n",
       "    </tr>\n",
       "    <tr>\n",
       "      <th>2</th>\n",
       "      <td>2020-01-01</td>\n",
       "      <td>4</td>\n",
       "      <td>400</td>\n",
       "      <td>475.0</td>\n",
       "      <td>84.210526</td>\n",
       "    </tr>\n",
       "    <tr>\n",
       "      <th>3</th>\n",
       "      <td>2020-01-01</td>\n",
       "      <td>5</td>\n",
       "      <td>350</td>\n",
       "      <td>400.0</td>\n",
       "      <td>87.500000</td>\n",
       "    </tr>\n",
       "    <tr>\n",
       "      <th>4</th>\n",
       "      <td>2020-01-01</td>\n",
       "      <td>6</td>\n",
       "      <td>298</td>\n",
       "      <td>350.0</td>\n",
       "      <td>85.142857</td>\n",
       "    </tr>\n",
       "    <tr>\n",
       "      <th>...</th>\n",
       "      <td>...</td>\n",
       "      <td>...</td>\n",
       "      <td>...</td>\n",
       "      <td>...</td>\n",
       "      <td>...</td>\n",
       "    </tr>\n",
       "    <tr>\n",
       "      <th>697</th>\n",
       "      <td>2022-03-01</td>\n",
       "      <td>5</td>\n",
       "      <td>3</td>\n",
       "      <td>23.0</td>\n",
       "      <td>13.043478</td>\n",
       "    </tr>\n",
       "    <tr>\n",
       "      <th>698</th>\n",
       "      <td>2022-04-01</td>\n",
       "      <td>2</td>\n",
       "      <td>513</td>\n",
       "      <td>NaN</td>\n",
       "      <td>NaN</td>\n",
       "    </tr>\n",
       "    <tr>\n",
       "      <th>699</th>\n",
       "      <td>2022-04-01</td>\n",
       "      <td>3</td>\n",
       "      <td>20</td>\n",
       "      <td>513.0</td>\n",
       "      <td>3.898635</td>\n",
       "    </tr>\n",
       "    <tr>\n",
       "      <th>700</th>\n",
       "      <td>2022-04-01</td>\n",
       "      <td>4</td>\n",
       "      <td>2</td>\n",
       "      <td>20.0</td>\n",
       "      <td>10.000000</td>\n",
       "    </tr>\n",
       "    <tr>\n",
       "      <th>701</th>\n",
       "      <td>2022-04-01</td>\n",
       "      <td>5</td>\n",
       "      <td>1</td>\n",
       "      <td>2.0</td>\n",
       "      <td>50.000000</td>\n",
       "    </tr>\n",
       "  </tbody>\n",
       "</table>\n",
       "<p>702 rows × 5 columns</p>\n",
       "</div>"
      ],
      "text/plain": [
       "    TRIAL_MONTH  ORDER_SEQUENCE  num_orders  prev_num_orders  retention\n",
       "0    2020-01-01               2         652              NaN        NaN\n",
       "1    2020-01-01               3         475            652.0  72.852761\n",
       "2    2020-01-01               4         400            475.0  84.210526\n",
       "3    2020-01-01               5         350            400.0  87.500000\n",
       "4    2020-01-01               6         298            350.0  85.142857\n",
       "..          ...             ...         ...              ...        ...\n",
       "697  2022-03-01               5           3             23.0  13.043478\n",
       "698  2022-04-01               2         513              NaN        NaN\n",
       "699  2022-04-01               3          20            513.0   3.898635\n",
       "700  2022-04-01               4           2             20.0  10.000000\n",
       "701  2022-04-01               5           1              2.0  50.000000\n",
       "\n",
       "[702 rows x 5 columns]"
      ]
     },
     "execution_count": 9,
     "metadata": {},
     "output_type": "execute_result"
    }
   ],
   "source": [
    "# get query\n",
    "cursor_obj.execute('''\n",
    "        WITH one as (\n",
    "            SELECT *,\n",
    "            --DATE_FORMAT(TRIAL_WEEK, '%Y-%m-01') as TRIAL_MONTH\n",
    "            strftime('%Y-%m-01', TRIAL_WEEK) as TRIAL_MONTH\n",
    "            FROM FACT_ORDERS as o\n",
    "            INNER JOIN DIM_CUSTOMERS as c on c.CUSTOMER_ID=o.CUSTOMER_ID\n",
    "            WHERE ORDER_TYPE='SUBSCRIPTION'\n",
    "            ),\n",
    "            two as (\n",
    "            SELECT TRIAL_MONTH, ORDER_SEQUENCE, count(ORDER_ID) as num_orders\n",
    "            FROM one\n",
    "            GROUP BY 1,2\n",
    "            ),\n",
    "            three as (\n",
    "            SELECT t.*, tt.num_orders prev_num_orders\n",
    "            FROM two t\n",
    "            LEFT JOIN two tt ON (t.TRIAL_MONTH=tt.TRIAL_MONTH AND t.ORDER_SEQUENCE=tt.ORDER_SEQUENCE+1)\n",
    "            )\n",
    "            \n",
    "        SELECT *,  100.*num_orders/prev_num_orders retention\n",
    "        FROM three\n",
    "        ORDER BY 1        \n",
    "\n",
    "''')\n",
    "\n",
    "df = pd.DataFrame(cursor_obj.fetchall()\n",
    "                  , columns=['TRIAL_MONTH','ORDER_SEQUENCE', 'num_orders','prev_num_orders', 'retention'])\n",
    "\n",
    "df"
   ]
  },
  {
   "cell_type": "markdown",
   "metadata": {},
   "source": [
    "7. Close connection"
   ]
  },
  {
   "cell_type": "code",
   "execution_count": 10,
   "metadata": {},
   "outputs": [],
   "source": [
    "# Close the connection\n",
    "connection_obj.close()"
   ]
  },
  {
   "cell_type": "code",
   "execution_count": null,
   "metadata": {},
   "outputs": [],
   "source": []
  }
 ],
 "metadata": {
  "kernelspec": {
   "display_name": "Python 3",
   "language": "python",
   "name": "python3"
  },
  "language_info": {
   "codemirror_mode": {
    "name": "ipython",
    "version": 3
   },
   "file_extension": ".py",
   "mimetype": "text/x-python",
   "name": "python",
   "nbconvert_exporter": "python",
   "pygments_lexer": "ipython3",
   "version": "3.7.6"
  }
 },
 "nbformat": 4,
 "nbformat_minor": 4
}
